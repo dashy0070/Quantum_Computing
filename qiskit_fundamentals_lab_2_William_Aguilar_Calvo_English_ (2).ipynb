{
  "cells": [
    {
      "cell_type": "markdown",
      "metadata": {
        "id": "09yor9XbsxUp"
      },
      "source": [
        "# Qiskit 2 Fundamentals Lab\n",
        "\n",
        "Welcome to the Qiskit 2 Fundamentals Lab! This notebook is designed to help get up to speed on Qiskit 2 fundamentals by providing hands-on exercises for 18 core concepts.\n",
        "\n",
        "**Instructions:**\n",
        "1. Read the explanation for each concept.\n",
        "2. Complete the coding exercise in the designated cell.\n",
        "3. After attempting the exercise, you can check your answer in the _solutions notebook"
      ]
    },
    {
      "cell_type": "markdown",
      "metadata": {
        "id": "t0jHE-ZfsxUq"
      },
      "source": [
        "## Setup\n",
        "\n",
        "First, let's install and import the necessary libraries. Run the cell below."
      ]
    },
    {
      "cell_type": "code",
      "execution_count": null,
      "metadata": {
        "colab": {
          "base_uri": "https://localhost:8080/"
        },
        "id": "DpJ3m8dBsxUq",
        "outputId": "1e9937a9-6bd3-4e0a-941e-94c4e28ae8be"
      },
      "outputs": [
        {
          "name": "stdout",
          "output_type": "stream",
          "text": [
            "Collecting qiskit-ibm-runtime\n",
            "  Downloading qiskit_ibm_runtime-0.43.1-py3-none-any.whl.metadata (21 kB)\n",
            "Collecting qiskit-aer\n",
            "  Downloading qiskit_aer-0.17.2-cp312-cp312-manylinux_2_17_x86_64.manylinux2014_x86_64.whl.metadata (8.3 kB)\n",
            "Collecting qiskit_qasm3_import\n",
            "  Downloading qiskit_qasm3_import-0.6.0-py3-none-any.whl.metadata (7.2 kB)\n",
            "Collecting qiskit[visualization]\n",
            "  Downloading qiskit-2.2.2-cp39-abi3-manylinux2014_x86_64.manylinux_2_17_x86_64.whl.metadata (12 kB)\n",
            "Collecting rustworkx>=0.15.0 (from qiskit[visualization])\n",
            "  Downloading rustworkx-0.17.1-cp39-abi3-manylinux_2_17_x86_64.manylinux2014_x86_64.whl.metadata (10 kB)\n",
            "Requirement already satisfied: numpy<3,>=1.17 in /usr/local/lib/python3.12/dist-packages (from qiskit[visualization]) (2.0.2)\n",
            "Requirement already satisfied: scipy>=1.5 in /usr/local/lib/python3.12/dist-packages (from qiskit[visualization]) (1.16.2)\n",
            "Requirement already satisfied: dill>=0.3 in /usr/local/lib/python3.12/dist-packages (from qiskit[visualization]) (0.3.8)\n",
            "Collecting stevedore>=3.0.0 (from qiskit[visualization])\n",
            "  Downloading stevedore-5.5.0-py3-none-any.whl.metadata (2.2 kB)\n",
            "Requirement already satisfied: typing-extensions in /usr/local/lib/python3.12/dist-packages (from qiskit[visualization]) (4.15.0)\n",
            "Requirement already satisfied: matplotlib>=3.3 in /usr/local/lib/python3.12/dist-packages (from qiskit[visualization]) (3.10.0)\n",
            "Requirement already satisfied: pydot in /usr/local/lib/python3.12/dist-packages (from qiskit[visualization]) (3.0.4)\n",
            "Requirement already satisfied: Pillow>=4.2.1 in /usr/local/lib/python3.12/dist-packages (from qiskit[visualization]) (11.3.0)\n",
            "Collecting pylatexenc>=1.4 (from qiskit[visualization])\n",
            "  Downloading pylatexenc-2.10.tar.gz (162 kB)\n",
            "\u001b[2K     \u001b[90m━━━━━━━━━━━━━━━━━━━━━━━━━━━━━━━━━━━━━━━\u001b[0m \u001b[32m162.6/162.6 kB\u001b[0m \u001b[31m4.7 MB/s\u001b[0m eta \u001b[36m0:00:00\u001b[0m\n",
            "\u001b[?25h  Preparing metadata (setup.py) ... \u001b[?25l\u001b[?25hdone\n",
            "Requirement already satisfied: seaborn>=0.9.0 in /usr/local/lib/python3.12/dist-packages (from qiskit[visualization]) (0.13.2)\n",
            "Requirement already satisfied: sympy>=1.3 in /usr/local/lib/python3.12/dist-packages (from qiskit[visualization]) (1.13.3)\n",
            "Requirement already satisfied: requests>=2.19 in /usr/local/lib/python3.12/dist-packages (from qiskit-ibm-runtime) (2.32.4)\n",
            "Collecting requests-ntlm>=1.1.0 (from qiskit-ibm-runtime)\n",
            "  Downloading requests_ntlm-1.3.0-py3-none-any.whl.metadata (2.4 kB)\n",
            "Requirement already satisfied: urllib3>=1.21.1 in /usr/local/lib/python3.12/dist-packages (from qiskit-ibm-runtime) (2.5.0)\n",
            "Requirement already satisfied: python-dateutil>=2.8.0 in /usr/local/lib/python3.12/dist-packages (from qiskit-ibm-runtime) (2.9.0.post0)\n",
            "Collecting ibm-platform-services>=0.22.6 (from qiskit-ibm-runtime)\n",
            "  Downloading ibm_platform_services-0.69.0-py3-none-any.whl.metadata (9.0 kB)\n",
            "Requirement already satisfied: pydantic>=2.5.0 in /usr/local/lib/python3.12/dist-packages (from qiskit-ibm-runtime) (2.11.10)\n",
            "Requirement already satisfied: packaging in /usr/local/lib/python3.12/dist-packages (from qiskit-ibm-runtime) (25.0)\n",
            "Requirement already satisfied: psutil>=5 in /usr/local/lib/python3.12/dist-packages (from qiskit-aer) (5.9.5)\n",
            "Collecting openqasm3<2.0,>=0.4 (from openqasm3[parser]<2.0,>=0.4->qiskit_qasm3_import)\n",
            "  Downloading openqasm3-1.0.1-py3-none-any.whl.metadata (6.0 kB)\n",
            "Collecting ibm_cloud_sdk_core<4.0.0,>=3.24.2 (from ibm-platform-services>=0.22.6->qiskit-ibm-runtime)\n",
            "  Downloading ibm_cloud_sdk_core-3.24.2-py3-none-any.whl.metadata (8.7 kB)\n",
            "Requirement already satisfied: contourpy>=1.0.1 in /usr/local/lib/python3.12/dist-packages (from matplotlib>=3.3->qiskit[visualization]) (1.3.3)\n",
            "Requirement already satisfied: cycler>=0.10 in /usr/local/lib/python3.12/dist-packages (from matplotlib>=3.3->qiskit[visualization]) (0.12.1)\n",
            "Requirement already satisfied: fonttools>=4.22.0 in /usr/local/lib/python3.12/dist-packages (from matplotlib>=3.3->qiskit[visualization]) (4.60.1)\n",
            "Requirement already satisfied: kiwisolver>=1.3.1 in /usr/local/lib/python3.12/dist-packages (from matplotlib>=3.3->qiskit[visualization]) (1.4.9)\n",
            "Requirement already satisfied: pyparsing>=2.3.1 in /usr/local/lib/python3.12/dist-packages (from matplotlib>=3.3->qiskit[visualization]) (3.2.5)\n",
            "Requirement already satisfied: antlr4_python3_runtime<4.14,>=4.7 in /usr/local/lib/python3.12/dist-packages (from openqasm3[parser]<2.0,>=0.4->qiskit_qasm3_import) (4.9.3)\n",
            "Requirement already satisfied: annotated-types>=0.6.0 in /usr/local/lib/python3.12/dist-packages (from pydantic>=2.5.0->qiskit-ibm-runtime) (0.7.0)\n",
            "Requirement already satisfied: pydantic-core==2.33.2 in /usr/local/lib/python3.12/dist-packages (from pydantic>=2.5.0->qiskit-ibm-runtime) (2.33.2)\n",
            "Requirement already satisfied: typing-inspection>=0.4.0 in /usr/local/lib/python3.12/dist-packages (from pydantic>=2.5.0->qiskit-ibm-runtime) (0.4.2)\n",
            "Requirement already satisfied: six>=1.5 in /usr/local/lib/python3.12/dist-packages (from python-dateutil>=2.8.0->qiskit-ibm-runtime) (1.17.0)\n",
            "Requirement already satisfied: charset_normalizer<4,>=2 in /usr/local/lib/python3.12/dist-packages (from requests>=2.19->qiskit-ibm-runtime) (3.4.4)\n",
            "Requirement already satisfied: idna<4,>=2.5 in /usr/local/lib/python3.12/dist-packages (from requests>=2.19->qiskit-ibm-runtime) (3.11)\n",
            "Requirement already satisfied: certifi>=2017.4.17 in /usr/local/lib/python3.12/dist-packages (from requests>=2.19->qiskit-ibm-runtime) (2025.10.5)\n",
            "Requirement already satisfied: cryptography>=1.3 in /usr/local/lib/python3.12/dist-packages (from requests-ntlm>=1.1.0->qiskit-ibm-runtime) (43.0.3)\n",
            "Collecting pyspnego>=0.4.0 (from requests-ntlm>=1.1.0->qiskit-ibm-runtime)\n",
            "  Downloading pyspnego-0.12.0-py3-none-any.whl.metadata (4.1 kB)\n",
            "Requirement already satisfied: pandas>=1.2 in /usr/local/lib/python3.12/dist-packages (from seaborn>=0.9.0->qiskit[visualization]) (2.2.2)\n",
            "Requirement already satisfied: mpmath<1.4,>=1.1.0 in /usr/local/lib/python3.12/dist-packages (from sympy>=1.3->qiskit[visualization]) (1.3.0)\n",
            "Requirement already satisfied: cffi>=1.12 in /usr/local/lib/python3.12/dist-packages (from cryptography>=1.3->requests-ntlm>=1.1.0->qiskit-ibm-runtime) (2.0.0)\n",
            "Requirement already satisfied: PyJWT<3.0.0,>=2.10.1 in /usr/local/lib/python3.12/dist-packages (from ibm_cloud_sdk_core<4.0.0,>=3.24.2->ibm-platform-services>=0.22.6->qiskit-ibm-runtime) (2.10.1)\n",
            "Requirement already satisfied: pytz>=2020.1 in /usr/local/lib/python3.12/dist-packages (from pandas>=1.2->seaborn>=0.9.0->qiskit[visualization]) (2025.2)\n",
            "Requirement already satisfied: tzdata>=2022.7 in /usr/local/lib/python3.12/dist-packages (from pandas>=1.2->seaborn>=0.9.0->qiskit[visualization]) (2025.2)\n",
            "Requirement already satisfied: pycparser in /usr/local/lib/python3.12/dist-packages (from cffi>=1.12->cryptography>=1.3->requests-ntlm>=1.1.0->qiskit-ibm-runtime) (2.23)\n",
            "Downloading qiskit_ibm_runtime-0.43.1-py3-none-any.whl (1.4 MB)\n",
            "\u001b[2K   \u001b[90m━━━━━━━━━━━━━━━━━━━━━━━━━━━━━━━━━━━━━━━━\u001b[0m \u001b[32m1.4/1.4 MB\u001b[0m \u001b[31m32.6 MB/s\u001b[0m eta \u001b[36m0:00:00\u001b[0m\n",
            "\u001b[?25hDownloading qiskit_aer-0.17.2-cp312-cp312-manylinux_2_17_x86_64.manylinux2014_x86_64.whl (12.4 MB)\n",
            "\u001b[2K   \u001b[90m━━━━━━━━━━━━━━━━━━━━━━━━━━━━━━━━━━━━━━━━\u001b[0m \u001b[32m12.4/12.4 MB\u001b[0m \u001b[31m119.1 MB/s\u001b[0m eta \u001b[36m0:00:00\u001b[0m\n",
            "\u001b[?25hDownloading qiskit_qasm3_import-0.6.0-py3-none-any.whl (29 kB)\n",
            "Downloading ibm_platform_services-0.69.0-py3-none-any.whl (368 kB)\n",
            "\u001b[2K   \u001b[90m━━━━━━━━━━━━━━━━━━━━━━━━━━━━━━━━━━━━━━━━\u001b[0m \u001b[32m368.7/368.7 kB\u001b[0m \u001b[31m34.5 MB/s\u001b[0m eta \u001b[36m0:00:00\u001b[0m\n",
            "\u001b[?25hDownloading openqasm3-1.0.1-py3-none-any.whl (541 kB)\n",
            "\u001b[2K   \u001b[90m━━━━━━━━━━━━━━━━━━━━━━━━━━━━━━━━━━━━━━━━\u001b[0m \u001b[32m541.5/541.5 kB\u001b[0m \u001b[31m43.6 MB/s\u001b[0m eta \u001b[36m0:00:00\u001b[0m\n",
            "\u001b[?25hDownloading qiskit-2.2.2-cp39-abi3-manylinux2014_x86_64.manylinux_2_17_x86_64.whl (8.0 MB)\n",
            "\u001b[2K   \u001b[90m━━━━━━━━━━━━━━━━━━━━━━━━━━━━━━━━━━━━━━━━\u001b[0m \u001b[32m8.0/8.0 MB\u001b[0m \u001b[31m104.5 MB/s\u001b[0m eta \u001b[36m0:00:00\u001b[0m\n",
            "\u001b[?25hDownloading requests_ntlm-1.3.0-py3-none-any.whl (6.6 kB)\n",
            "Downloading rustworkx-0.17.1-cp39-abi3-manylinux_2_17_x86_64.manylinux2014_x86_64.whl (2.2 MB)\n",
            "\u001b[2K   \u001b[90m━━━━━━━━━━━━━━━━━━━━━━━━━━━━━━━━━━━━━━━━\u001b[0m \u001b[32m2.2/2.2 MB\u001b[0m \u001b[31m104.9 MB/s\u001b[0m eta \u001b[36m0:00:00\u001b[0m\n",
            "\u001b[?25hDownloading stevedore-5.5.0-py3-none-any.whl (49 kB)\n",
            "\u001b[2K   \u001b[90m━━━━━━━━━━━━━━━━━━━━━━━━━━━━━━━━━━━━━━━━\u001b[0m \u001b[32m49.5/49.5 kB\u001b[0m \u001b[31m4.6 MB/s\u001b[0m eta \u001b[36m0:00:00\u001b[0m\n",
            "\u001b[?25hDownloading ibm_cloud_sdk_core-3.24.2-py3-none-any.whl (75 kB)\n",
            "\u001b[2K   \u001b[90m━━━━━━━━━━━━━━━━━━━━━━━━━━━━━━━━━━━━━━━━\u001b[0m \u001b[32m75.8/75.8 kB\u001b[0m \u001b[31m7.2 MB/s\u001b[0m eta \u001b[36m0:00:00\u001b[0m\n",
            "\u001b[?25hDownloading pyspnego-0.12.0-py3-none-any.whl (130 kB)\n",
            "\u001b[2K   \u001b[90m━━━━━━━━━━━━━━━━━━━━━━━━━━━━━━━━━━━━━━━━\u001b[0m \u001b[32m130.2/130.2 kB\u001b[0m \u001b[31m12.2 MB/s\u001b[0m eta \u001b[36m0:00:00\u001b[0m\n",
            "\u001b[?25hBuilding wheels for collected packages: pylatexenc\n",
            "  Building wheel for pylatexenc (setup.py) ... \u001b[?25l\u001b[?25hdone\n",
            "  Created wheel for pylatexenc: filename=pylatexenc-2.10-py3-none-any.whl size=136817 sha256=bf22912627672f3bcaef9eef346c0921f2c30acbf0a21aae12251792dd91d675\n",
            "  Stored in directory: /root/.cache/pip/wheels/06/3e/78/fa1588c1ae991bbfd814af2bcac6cef7a178beee1939180d46\n",
            "Successfully built pylatexenc\n",
            "Installing collected packages: pylatexenc, openqasm3, stevedore, rustworkx, qiskit, ibm_cloud_sdk_core, qiskit_qasm3_import, qiskit-aer, pyspnego, ibm-platform-services, requests-ntlm, qiskit-ibm-runtime\n",
            "Successfully installed ibm-platform-services-0.69.0 ibm_cloud_sdk_core-3.24.2 openqasm3-1.0.1 pylatexenc-2.10 pyspnego-0.12.0 qiskit-2.2.2 qiskit-aer-0.17.2 qiskit-ibm-runtime-0.43.1 qiskit_qasm3_import-0.6.0 requests-ntlm-1.3.0 rustworkx-0.17.1 stevedore-5.5.0\n"
          ]
        }
      ],
      "source": [
        "!pip install qiskit[visualization] qiskit-ibm-runtime qiskit-aer qiskit_qasm3_import\n",
        "\n",
        "import numpy as np\n",
        "from qiskit import QuantumCircuit\n",
        "from qiskit.quantum_info import Pauli, SparsePauliOp, Statevector\n",
        "from qiskit.visualization import plot_histogram, plot_bloch_multivector\n",
        "from qiskit_aer import AerSimulator\n",
        "from qiskit.circuit import Parameter, ParameterVector\n",
        "import qiskit.qasm3\n",
        "from qiskit_ibm_runtime.fake_provider import FakeVigoV2\n",
        "from qiskit.transpiler.preset_passmanagers import generate_preset_pass_manager\n",
        "from qiskit_ibm_runtime import SamplerV2 as Sampler, EstimatorV2 as Estimator, QiskitRuntimeService\n"
      ]
    },
    {
      "cell_type": "markdown",
      "metadata": {
        "id": "deqExCIwsxUr"
      },
      "source": [
        "---"
      ]
    },
    {
      "cell_type": "markdown",
      "metadata": {
        "id": "h7LE98wpsxUr"
      },
      "source": [
        "## 1. Pauli Operators (Single-Qubit Operators)\n",
        "\n",
        "**Explanation:** The Pauli operators (X, Y, Z, and I) are 2x2 matrices that represent fundamental single-qubit quantum operations. In Qiskit, these can be created using the `Pauli` class (e.g., `Pauli('X')` for the X operator). You can also construct multi-qubit Paulis by specifying characters for each qubit (e.g., `'XI'` for identity on qubit 0 and X on qubit 1, following Qiskit's little-endian bit ordering)."
      ]
    },
    {
      "cell_type": "markdown",
      "metadata": {
        "id": "16mO3TVQsxUr"
      },
      "source": [
        "**Exercise 1:**\n",
        "Write code that performs following functionality:\n",
        "1. Creates a 3-qubit Pauli operator representing `Z` on qubit 2, `Y` on qubit 1, and `I` (Identity) on qubit 0.\n",
        "2. Prints the operator.\n",
        "3. Prints its corresponding matrix representation"
      ]
    },
    {
      "cell_type": "code",
      "execution_count": null,
      "metadata": {
        "colab": {
          "base_uri": "https://localhost:8080/"
        },
        "id": "Q7uI3aw1sxUr",
        "outputId": "9450501b-070c-4840-cbc9-b622ada4b561"
      },
      "outputs": [
        {
          "name": "stdout",
          "output_type": "stream",
          "text": [
            "Pauli Operator:\n",
            "IYZ\n",
            "\n",
            "Matrix Representation:\n",
            "[[0.+0.j 0.+0.j 0.-1.j 0.+0.j 0.+0.j 0.+0.j 0.+0.j 0.+0.j]\n",
            " [0.+0.j 0.+0.j 0.+0.j 0.+1.j 0.+0.j 0.+0.j 0.+0.j 0.+0.j]\n",
            " [0.+1.j 0.+0.j 0.+0.j 0.+0.j 0.+0.j 0.+0.j 0.+0.j 0.+0.j]\n",
            " [0.+0.j 0.-1.j 0.+0.j 0.+0.j 0.+0.j 0.+0.j 0.+0.j 0.+0.j]\n",
            " [0.+0.j 0.+0.j 0.+0.j 0.+0.j 0.+0.j 0.+0.j 0.-1.j 0.+0.j]\n",
            " [0.+0.j 0.+0.j 0.+0.j 0.+0.j 0.+0.j 0.+0.j 0.+0.j 0.+1.j]\n",
            " [0.+0.j 0.+0.j 0.+0.j 0.+0.j 0.+1.j 0.+0.j 0.+0.j 0.+0.j]\n",
            " [0.+0.j 0.+0.j 0.+0.j 0.+0.j 0.+0.j 0.-1.j 0.+0.j 0.+0.j]]\n"
          ]
        }
      ],
      "source": [
        "from qiskit.quantum_info import Pauli\n",
        "\n",
        "pauli_op = Pauli(\"IYZ\")\n",
        "\n",
        "print(\"Pauli Operator:\")\n",
        "print(pauli_op)\n",
        "\n",
        "print(\"\\nMatrix Representation:\")\n",
        "print(pauli_op.to_matrix())\n"
      ]
    },
    {
      "cell_type": "markdown",
      "metadata": {
        "id": "jt1qu3ttsxUr"
      },
      "source": [
        "---"
      ]
    },
    {
      "cell_type": "markdown",
      "metadata": {
        "id": "oyy5Q-RysxUr"
      },
      "source": [
        "## 2. Single-Qubit Gates and Phases\n",
        "\n",
        "**Explanation:** Single-qubit gates like X, Y, Z, H, S, and T are basic operations on one qubit. S and T are phase gates. The S-gate adds a π/2 phase to the |1⟩ component of any quantum state, while the T-gate adds a π/4 phase to the |1⟩ component, leaving the |0⟩ component unchanged in both cases. These phase shifts are crucial for many quantum algorithms."
      ]
    },
    {
      "cell_type": "markdown",
      "metadata": {
        "id": "oR0wlF-xsxUr"
      },
      "source": [
        "**Exercise 2:**\n",
        "Write code that performs following functionality:\n",
        "1. Creates a quantum circuit that contains one qubit.\n",
        "2. Puts the qubit in the state |1⟩.\n",
        "3. Adds a single gate to the circuit that applies a π/4 phase shift to the qubit.\n",
        "4. Output a Dirac notation representation of the circuit's statevector."
      ]
    },
    {
      "cell_type": "code",
      "execution_count": null,
      "metadata": {
        "colab": {
          "base_uri": "https://localhost:8080/",
          "height": 163
        },
        "id": "Bd2qSTJisxUr",
        "outputId": "a32549b0-49ae-49fb-a2f7-a28634449fc4"
      },
      "outputs": [
        {
          "name": "stdout",
          "output_type": "stream",
          "text": [
            "Statevector([0.        +0.j        , 0.70710678+0.70710678j],\n",
            "            dims=(2,))\n"
          ]
        },
        {
          "data": {
            "image/png": "[encoded data removed]",
            "text/plain": [
              "<Figure size 269.064x117.056 with 1 Axes>"
            ]
          },
          "execution_count": 3,
          "metadata": {},
          "output_type": "execute_result"
        }
      ],
      "source": [
        "from qiskit import QuantumCircuit\n",
        "from qiskit.quantum_info import Statevector\n",
        "from qiskit.circuit.library import PhaseGate\n",
        "\n",
        "qc = QuantumCircuit(1)\n",
        "\n",
        "qc.x(0)\n",
        "\n",
        "qc.t(0)\n",
        "\n",
        "state = Statevector.from_instruction(qc)\n",
        "print(state)\n",
        "\n",
        "qc.draw('mpl')"
      ]
    },
    {
      "cell_type": "markdown",
      "metadata": {
        "id": "7dYTCO3AsxUr"
      },
      "source": [
        "---"
      ]
    },
    {
      "cell_type": "markdown",
      "metadata": {
        "id": "w53dsAQ4sxUr"
      },
      "source": [
        "## 3. Superposition and Bloch Sphere Rotations\n",
        "\n",
        "**Explanation:** Gates like `RX`, `RY`, and `RZ` perform rotations around the axes of the Bloch sphere, creating superposition states. A rotation by an angle θ around the Y-axis (`RY(θ)`) on an initial state |0⟩ produces the superposition cos(θ/2)|0⟩ + sin(θ/2)|1⟩. The probabilities of measuring 0 or 1 are the squares of these amplitudes."
      ]
    },
    {
      "cell_type": "markdown",
      "metadata": {
        "id": "xWCV781dsxUs"
      },
      "source": [
        "**Exercise 3:**\n",
        "Write code that performs following functionality:\n",
        "1. Creates a quantum circuit that contains one qubit.\n",
        "2. Applies a single gate to qubit 0 (initially in state |0⟩) to create a superposition where the probability of measuring |0⟩ is approximately 14.6% and the probability of measuring |1⟩ is 85.4%.\n",
        "3. Prints the probabilities.\n",
        "4. Displays a Bloch sphere representation of the statevector."
      ]
    },
    {
      "cell_type": "code",
      "execution_count": null,
      "metadata": {
        "colab": {
          "base_uri": "https://localhost:8080/",
          "height": 560
        },
        "id": "mIsVCiCksxUs",
        "outputId": "e0b07783-1fe9-432b-b570-be167a020fb3"
      },
      "outputs": [
        {
          "name": "stdout",
          "output_type": "stream",
          "text": [
            "   ┌──────────┐\n",
            "q: ┤ Ry(3π/4) ├\n",
            "   └──────────┘\n",
            "Probabilities:\n",
            "{np.str_('0'): 0.1464, np.str_('1'): 0.8536}\n"
          ]
        },
        {
          "data": {
            "image/png": "[encoded data removed]",
            "text/plain": [
              "<Figure size 480x480 with 1 Axes>"
            ]
          },
          "metadata": {},
          "output_type": "display_data"
        }
      ],
      "source": [
        "import numpy as np\n",
        "from qiskit import QuantumCircuit\n",
        "from qiskit.quantum_info import Statevector\n",
        "from qiskit.visualization import plot_bloch_multivector\n",
        "import matplotlib.pyplot as plt\n",
        "\n",
        "# Target: P(|0⟩) ≈ 0.146, P(|1⟩) ≈ 0.854\n",
        "# Use |ψ⟩ = cos(θ/2)|0⟩ + sin(θ/2)|1⟩ with θ = 3π/4 (since cos^2(3π/8) ≈ 0.146)\n",
        "theta = 3 * np.pi / 4\n",
        "\n",
        "\n",
        "# 1) One-qubit circuit\n",
        "qc = QuantumCircuit(1)\n",
        "\n",
        "# 2) Create the superposition on |0⟩ via Ry(θ)\n",
        "qc.ry(theta, 0)\n",
        "\n",
        "print(qc)\n",
        "\n",
        "# 3) Statevector and probabilities\n",
        "state = Statevector.from_instruction(qc)\n",
        "probs = state.probabilities_dict()  # {'0': ~0.1464, '1': ~0.8536}\n",
        "\n",
        "print(\"Probabilities:\")\n",
        "print({k: round(float(v), 4) for k, v in probs.items()})\n",
        "\n",
        "# 4) Bloch sphere of the state\n",
        "fig = plot_bloch_multivector(state)\n",
        "plt.show()\n",
        "\n",
        "%matplotlib inline\n",
        "from IPython.display import display\n",
        "\n",
        "fig = plot_bloch_multivector(state)\n",
        "display(fig)  # o simplemente fig en una celda nueva"
      ]
    },
    {
      "cell_type": "markdown",
      "metadata": {
        "id": "UpDq_hSCsxUs"
      },
      "source": [
        "---"
      ]
    },
    {
      "cell_type": "markdown",
      "metadata": {
        "id": "ab_OzjB-sxUs"
      },
      "source": [
        "## 4. Multi-Qubit Operations and Entanglement\n",
        "\n",
        "**Explanation:** Multi-qubit gates like the CNOT (`qc.cx(control, target)`) create entanglement when applied to superposition states. A common entangled state is the Bell state |Φ+⟩ = 1/√2(|00⟩ + |11⟩), created by applying a Hadamard gate to one qubit and then a CNOT gate. Remember Qiskit's bit ordering: qubit 0 is the rightmost bit (least significant)."
      ]
    },
    {
      "cell_type": "markdown",
      "metadata": {
        "id": "ixJz_uCSsxUs"
      },
      "source": [
        "**Exercise 4:**\n",
        "Write code that performs following functionality:\n",
        "1. Creates a quantum circuit that contains two qubits.\n",
        "2. Create the Bell state |Φ+⟩ in which the first qubit (q0) is the control qubit.\n",
        "3. Draws the quantum circuit using matplotlib.\n",
        "4. Prints the circuit's statevector."
      ]
    },
    {
      "cell_type": "code",
      "execution_count": null,
      "metadata": {
        "colab": {
          "base_uri": "https://localhost:8080/",
          "height": 245
        },
        "id": "tYtyD067sxUs",
        "outputId": "796080b5-6d41-4c2e-d780-26ee0bf81b37"
      },
      "outputs": [
        {
          "name": "stdout",
          "output_type": "stream",
          "text": [
            "Statevector([0.70710678+0.j, 0.        +0.j, 0.        +0.j,\n",
            "             0.70710678+0.j],\n",
            "            dims=(2, 2))\n"
          ]
        },
        {
          "data": {
            "image/png": "[encoded data removed]",
            "text/plain": [
              "<Figure size 287.294x200.667 with 1 Axes>"
            ]
          },
          "execution_count": 5,
          "metadata": {},
          "output_type": "execute_result"
        }
      ],
      "source": [
        "\n",
        "qc = QuantumCircuit(2)\n",
        "\n",
        "qc.h(0)\n",
        "\n",
        "qc.cx(0, 1)\n",
        "\n",
        "state = Statevector.from_instruction(qc)\n",
        "print(state)\n",
        "\n",
        "qc.draw('mpl')\n",
        "\n",
        "\n"
      ]
    },
    {
      "cell_type": "markdown",
      "metadata": {
        "id": "VXUeDyQQsxUs"
      },
      "source": [
        "---"
      ]
    },
    {
      "cell_type": "markdown",
      "metadata": {
        "id": "bYWNowNPsxUs"
      },
      "source": [
        "## 5. Building Quantum Circuits and Drawing\n",
        "\n",
        "**Explanation:** The `QuantumCircuit` class is used to build circuits. The `draw()` method provides visualizations in formats like `'text'`, `'mpl'`, and `'latex'`. You can customize the drawing with parameters such as `reverse_bits` to flip the qubit order."
      ]
    },
    {
      "cell_type": "markdown",
      "metadata": {
        "id": "h4YCSEVPsxUs"
      },
      "source": [
        "**Exercise 5:**\n",
        "Write code that performs following functionality:\n",
        "1. Creates a 3-qubit GHZ state.\n",
        "2. Draws the circuit with the qubit order reversed in the diagram (q2 on top, q0 on bottom).\n"
      ]
    },
    {
      "cell_type": "code",
      "execution_count": null,
      "metadata": {
        "colab": {
          "base_uri": "https://localhost:8080/",
          "height": 255
        },
        "id": "d0E_Jhn3sxUs",
        "outputId": "1392b8f8-2ea8-4bf2-dba3-91bf38da074f"
      },
      "outputs": [
        {
          "data": {
            "image/png": "[encoded data removed]",
            "text/plain": [
              "<Figure size 371.107x284.278 with 1 Axes>"
            ]
          },
          "execution_count": 6,
          "metadata": {},
          "output_type": "execute_result"
        }
      ],
      "source": [
        "qc = QuantumCircuit(3)\n",
        "\n",
        "qc.h(0)\n",
        "qc.cx(0, 1)\n",
        "qc.cx(0, 2)\n",
        "\n",
        "qc.draw('mpl', reverse_bits=True)"
      ]
    },
    {
      "cell_type": "markdown",
      "metadata": {
        "id": "QmYxbaGEsxUs"
      },
      "source": [
        "---"
      ]
    },
    {
      "cell_type": "markdown",
      "metadata": {
        "id": "_7Ll_fsssxUs"
      },
      "source": [
        "## 6. Dynamic Circuits and Classical Control Flow\n",
        "\n",
        "**Explanation:** Qiskit supports dynamic circuits where operations can be conditioned on classical measurement outcomes. The `if_test()` context manager can be used to create conditional blocks where operations are executed based on classical bit values. This allows for powerful classical feed-forward in your quantum programs."
      ]
    },
    {
      "cell_type": "markdown",
      "metadata": {
        "id": "BqykBGJ7sxUs"
      },
      "source": [
        "**Exercise 6:**\n",
        "Write code that performs following functionality:\n",
        "1. Creates a quantum circuit that contains two qubits and at least one classical bit.\n",
        "2. Adds a hadamard gate to the least significant qubit\n",
        "3. Applies an X gate to qubit 1 *only if* a measurement of qubit 0 yields the result `1`. Use the `if_test()` context manager with the appropriate condition tuple.\n",
        "4. Draws the circuit using matplotlib."
      ]
    },
    {
      "cell_type": "code",
      "execution_count": null,
      "metadata": {
        "colab": {
          "base_uri": "https://localhost:8080/",
          "height": 255
        },
        "id": "pYyuApK9sxUs",
        "outputId": "de4c452d-0cca-41bc-a8af-699b89782713"
      },
      "outputs": [
        {
          "data": {
            "image/png": "[encoded data removed]",
            "text/plain": [
              "<Figure size 454.517x284.278 with 1 Axes>"
            ]
          },
          "execution_count": 7,
          "metadata": {},
          "output_type": "execute_result"
        }
      ],
      "source": [
        "from qiskit import QuantumCircuit\n",
        "\n",
        "qc = QuantumCircuit(2, 1)\n",
        "\n",
        "qc.h(0)\n",
        "\n",
        "qc.measure(0, 0)\n",
        "\n",
        "with qc.if_test((qc.clbits[0], 1)):\n",
        "    qc.x(1)\n",
        "\n",
        "qc.draw('mpl')\n"
      ]
    },
    {
      "cell_type": "markdown",
      "metadata": {
        "id": "bz26HxCvsxUs"
      },
      "source": [
        "---"
      ]
    },
    {
      "cell_type": "markdown",
      "metadata": {
        "id": "4Z9ge_vOsxUs"
      },
      "source": [
        "## 7. Visualizing Quantum States and Results\n",
        "\n",
        "**Explanation:** Qiskit offers several functions to visualize results. `plot_histogram(counts)` is used to display measurement outcomes from a simulation or real device run. You can sort the results for easier analysis, for example, by the frequency of the outcomes."
      ]
    },
    {
      "cell_type": "markdown",
      "metadata": {
        "id": "HjCmEiJfsxUs"
      },
      "source": [
        "**Exercise 7:**\n",
        "Write code that performs following functionality:\n",
        "1. Creates a quantum circuit that contains the |Φ+⟩ Bell state.\n",
        "2. Measures the results on classical wires.\n",
        "3. Runs the circuit using the `AerSimulator`.\n",
        "4. Gets the measurement counts.\n",
        "5. Plots a histogram with the bars sorted from the most common outcome to the least common."
      ]
    },
    {
      "cell_type": "code",
      "execution_count": null,
      "metadata": {
        "colab": {
          "base_uri": "https://localhost:8080/",
          "height": 505
        },
        "id": "7N-DRWjwsxUt",
        "outputId": "754d37f9-3376-4b39-c349-c5d2ad50e057"
      },
      "outputs": [
        {
          "name": "stdout",
          "output_type": "stream",
          "text": [
            "Measurement counts: {'11': 528, '00': 496}\n"
          ]
        },
        {
          "data": {
            "image/png": "[encoded data removed]",
            "text/plain": [
              "<Figure size 640x480 with 1 Axes>"
            ]
          },
          "execution_count": 8,
          "metadata": {},
          "output_type": "execute_result"
        }
      ],
      "source": [
        "\n",
        "\n",
        "qc = QuantumCircuit(2, 2)\n",
        "\n",
        "qc.h(0)       # Hadamard on qubit 0\n",
        "qc.cx(0, 1)   # CNOT (control = q0, target = q1)\n",
        "\n",
        "qc.measure([0, 1], [0, 1])\n",
        "\n",
        "qc.draw('mpl')\n",
        "\n",
        "simulator = AerSimulator()\n",
        "\n",
        "compiled_circuit = qiskit.transpile(qc, simulator)\n",
        "\n",
        "job = simulator.run(compiled_circuit, shots=1024)\n",
        "result = job.result()\n",
        "\n",
        "counts = result.get_counts()\n",
        "print(\"Measurement counts:\", counts)\n",
        "\n",
        "plot_histogram(counts, sort='desc')\n"
      ]
    },
    {
      "cell_type": "markdown",
      "metadata": {
        "id": "YTRCdX_LsxUt"
      },
      "source": [
        "---"
      ]
    },
    {
      "cell_type": "markdown",
      "metadata": {
        "id": "7KS7X1hWsxUx"
      },
      "source": [
        "## 8. Parameterized Quantum Circuits\n",
        "\n",
        "**Explanation:** Qiskit allows circuits with symbolic parameters using the `Parameter` class. These parameters act as placeholders that can be bound to specific numerical values later using the `assign_parameters()` method. This is fundamental for variational algorithms like VQE and QAOA."
      ]
    },
    {
      "cell_type": "markdown",
      "metadata": {
        "id": "1PjfEcsUsxUx"
      },
      "source": [
        "**Exercise 8:**\n",
        "Write code that performs following functionality:\n",
        "1. Creates a `Parameter` instance to represent a parameter named `theta`.\n",
        "2. Creates a quantum circuit `qc` that contains one qubit.\n",
        "3. Adds an RX gate with parameter `theta` to the qubit wire.\n",
        "4. Draws the `qc` circuit.\n",
        "5. Creates a new circuit `bound_qc` by binding the parameter `theta` to the value `π/2`.\n",
        "6. Draws the `bound_qc` circuit."
      ]
    },
    {
      "cell_type": "code",
      "execution_count": null,
      "metadata": {
        "colab": {
          "base_uri": "https://localhost:8080/",
          "height": 127
        },
        "id": "IPjJLmqjsxUx",
        "outputId": "09aac1b3-2e30-439e-b25f-53e5ad5f3ae4"
      },
      "outputs": [
        {
          "data": {
            "image/png": "[encoded data removed]",
            "text/plain": [
              "<Figure size 185.453x117.056 with 1 Axes>"
            ]
          },
          "execution_count": 9,
          "metadata": {},
          "output_type": "execute_result"
        }
      ],
      "source": [
        "theta = Parameter('θ')\n",
        "qc = QuantumCircuit(1)\n",
        "qc.rx(theta, 0)\n",
        "qc.draw('mpl')"
      ]
    },
    {
      "cell_type": "code",
      "execution_count": null,
      "metadata": {
        "colab": {
          "base_uri": "https://localhost:8080/",
          "height": 127
        },
        "id": "i4guDDAT3DeZ",
        "outputId": "764fb304-12c8-4c66-d462-442bad1a5557"
      },
      "outputs": [
        {
          "data": {
            "image/png": "[encoded data removed]",
            "text/plain": [
              "<Figure size 185.453x117.056 with 1 Axes>"
            ]
          },
          "execution_count": 10,
          "metadata": {},
          "output_type": "execute_result"
        }
      ],
      "source": [
        "bound_qc = qc.assign_parameters({theta: np.pi / 2})\n",
        "bound_qc.draw('mpl')"
      ]
    },
    {
      "cell_type": "markdown",
      "metadata": {
        "id": "oacDrbNPsxUy"
      },
      "source": [
        "---"
      ]
    },
    {
      "cell_type": "markdown",
      "metadata": {
        "id": "mtJl_5xHsxUy"
      },
      "source": [
        "## 9. Circuit Transpilation and Optimization\n",
        "\n",
        "**Explanation:** Transpilation adapts a quantum circuit to the constraints of a specific quantum device, including its basis gates and qubit connectivity. The `generate_preset_pass_manager()` function creates a transpilation pass manager with preset configurations. It has several `optimization_level` settings (0-3), where higher levels apply more advanced optimization techniques to reduce circuit depth and gate count, at the cost of longer compilation time."
      ]
    },
    {
      "cell_type": "markdown",
      "metadata": {
        "id": "3BApPuTLsxUy"
      },
      "source": [
        "**Exercise 9:**\n",
        "Write code that performs following functionality:\n",
        "1. Creates a 3-qubit GHZ circuit.\n",
        "2. Transpiles the circuit for the `FakeVigoV2` backend, using the highest level of optimization (level 3).\n",
        "3. Prints the depth of the original circuit.\n",
        "4. Prints the depth of the transpiled circuit.\n",
        "5. Draws the transpiled circuit."
      ]
    },
    {
      "cell_type": "code",
      "execution_count": null,
      "metadata": {
        "colab": {
          "base_uri": "https://localhost:8080/",
          "height": 304
        },
        "id": "vsy-1cVPsxUy",
        "outputId": "3f0402c4-c4c6-4f69-8f34-5229cfccf57b"
      },
      "outputs": [
        {
          "name": "stdout",
          "output_type": "stream",
          "text": [
            "Original circuit depth: 3\n",
            "Transpiled circuit depth: 5\n"
          ]
        },
        {
          "data": {
            "image/png": "[encoded data removed]",
            "text/plain": [
              "<Figure size 591.012x284.278 with 1 Axes>"
            ]
          },
          "execution_count": 11,
          "metadata": {},
          "output_type": "execute_result"
        }
      ],
      "source": [
        "qc = QuantumCircuit(3)\n",
        "qc.h(0)\n",
        "qc.cx(0, 1)\n",
        "qc.cx(1, 2)\n",
        "\n",
        "backend = FakeVigoV2()\n",
        "pm = generate_preset_pass_manager(optimization_level=3, backend=backend)\n",
        "\n",
        "qc_t = pm.run(qc)\n",
        "\n",
        "print(\"Original circuit depth:\", qc.depth())\n",
        "print(\"Transpiled circuit depth:\", qc_t.depth())\n",
        "\n",
        "qc_t.draw('mpl')\n"
      ]
    },
    {
      "cell_type": "markdown",
      "metadata": {
        "id": "8XsqcPA1sxUy"
      },
      "source": [
        "---"
      ]
    },
    {
      "cell_type": "markdown",
      "metadata": {
        "id": "PL65fgRBsxUy"
      },
      "source": [
        "## 10. Qiskit Runtime Execution Modes\n",
        "\n",
        "**Explanation:** Qiskit Runtime offers three execution modes: **job**, **session**, and **batch**. The execution modes determine how your jobs are scheduled, and choosing the right execution mode allows your workload to run efficiently within your budget."
      ]
    },
    {
      "cell_type": "markdown",
      "metadata": {
        "id": "KUUF6HpGsxUy"
      },
      "source": [
        "**Exercise 10:** This is a conceptual question. In the markdown cell below, explain which execution mode (job, session, or batch) you would use for a Variational Quantum Eigensolver (VQE) algorithm and briefly state why."
      ]
    },
    {
      "cell_type": "markdown",
      "metadata": {
        "id": "vXi1UHRhsxUy"
      },
      "source": [
        "For a VQE algorithm, I would use session mode. VQE runs many small circuits that depend on previous results, so keeping a live session avoids re-queueing and reduces latency. Job mode is too slow, and batch mode is for independent runs. Session mode is the most efficient for iterative algorithms like VQE.\n"
      ]
    },
    {
      "cell_type": "markdown",
      "metadata": {
        "id": "id6jApu3sxUy"
      },
      "source": [
        "---"
      ]
    },
    {
      "cell_type": "markdown",
      "metadata": {
        "id": "reyOfqR9sxUy"
      },
      "source": [
        "## 11. Quantum Primitives (Sampler and Estimator)\n",
        "\n",
        "**Explanation:** Primitives are high-level interfaces for common quantum tasks. The **Sampler** and **Estimator** are two key primitives that each serve different purposes when working with quantum circuits. They abstract away the details of execution and error mitigation, making it easier to extract meaningful information from quantum computations."
      ]
    },
    {
      "cell_type": "markdown",
      "metadata": {
        "id": "K3pRUs_6sxUy"
      },
      "source": [
        "**Exercise 11:** This is a conceptual question. In the markdown cell below, describe the fundamental difference between the Sampler and Estimator primitives in a single sentence."
      ]
    },
    {
      "cell_type": "markdown",
      "metadata": {
        "id": "apftI_pHsxUy"
      },
      "source": [
        "Sampler gives measurement probabilities, while the Estimator gives the expectation values of observables\n",
        "\n"
      ]
    },
    {
      "cell_type": "markdown",
      "metadata": {
        "id": "QLC_Kbp-sxUy"
      },
      "source": [
        "---"
      ]
    },
    {
      "cell_type": "markdown",
      "metadata": {
        "id": "-PaYckpwsxUy"
      },
      "source": [
        "## 12. Using the Sampler Primitive\n",
        "\n",
        "**Explanation:** In Qiskit 2, you can use the `Sampler` primitive from `qiskit_ibm_runtime` with local simulators like `AerSimulator`. Here you'll initialize a `Sampler` with a backend mode, transpile your circuit using `generate_preset_pass_manager`, then use the `.run([circuits], shots=...)` method. The result object contains measurement data accessible via the classical register names."
      ]
    },
    {
      "cell_type": "markdown",
      "metadata": {
        "id": "pOzBRxObsxUy"
      },
      "source": [
        "**Exercise 12:**\n",
        "Write code that performs following functionality:\n",
        "1. Creates a quantum circuit that contains the |Φ+⟩ Bell state.\n",
        "2. Uses the `measure_all` method to measure the results.\n",
        "3. Transpiles the circuit using the `AerSimulator` backend.\n",
        "4. Initializes the `Sampler` primitive with the `AerSimulator` backend\n",
        "5. Runs the Sampler.\n",
        "6. Gets the measurement counts.\n",
        "7. Prints the measurement counts.\n"
      ]
    },
    {
      "cell_type": "code",
      "execution_count": null,
      "metadata": {
        "colab": {
          "base_uri": "https://localhost:8080/"
        },
        "id": "4fmQxymusxUy",
        "outputId": "766a9c27-122b-4c21-cfca-4b7bd87f6638"
      },
      "outputs": [
        {
          "name": "stdout",
          "output_type": "stream",
          "text": [
            "Measurement counts: {'11': 530, '00': 494}\n"
          ]
        }
      ],
      "source": [
        "qc = QuantumCircuit(2)\n",
        "qc.h(0)\n",
        "qc.cx(0, 1)\n",
        "\n",
        "qc.measure_all()\n",
        "\n",
        "backend = AerSimulator()\n",
        "pm = generate_preset_pass_manager(optimization_level=1, backend=backend)\n",
        "qc_t = pm.run(qc)\n",
        "\n",
        "sampler = Sampler(mode=backend)\n",
        "\n",
        "job = sampler.run([qc_t], shots=1024)\n",
        "result = job.result()\n",
        "\n",
        "counts = result[0].data.meas.get_counts()\n",
        "print(\"Measurement counts:\", counts)"
      ]
    },
    {
      "cell_type": "markdown",
      "metadata": {
        "id": "RB3wcFFYsxUz"
      },
      "source": [
        "---"
      ]
    },
    {
      "cell_type": "markdown",
      "metadata": {
        "id": "TwkbyxVDsxUz"
      },
      "source": [
        "## 13. Using the Estimator Primitive\n",
        "\n",
        "**Explanation:** In Qiskit 2, you can use the `Estimator` primitive from `qiskit_ibm_runtime` with local simulators like `AerSimulator`. The `Estimator` computes expectation values ⟨ψ|O|ψ⟩. Here you'll initialize an `Estimator` with a backend mode, transpile your circuit using `generate_preset_pass_manager`, apply the observable to the circuit layout, then use the `.run([(circuit, observable)])` method. The result object contains expectation values accessible via `data.evs`."
      ]
    },
    {
      "cell_type": "markdown",
      "metadata": {
        "id": "SXgnN1FNsxUz"
      },
      "source": [
        "**Exercise 13:**\n",
        "Write code that performs following functionality:\n",
        "1. Creates a quantum circuit that contains the |Φ+⟩ Bell state.\n",
        "2. Defines the ZZ observable using `SparsePauliOp`\n",
        "3. Transpiles the circuit using the `AerSimulator` backend.\n",
        "4. Applies the observable to the circuit layout\n",
        "5. Initializes the `Estimator` primitive with the `AerSimulator` backend.\n",
        "6. Runs the Estimator.\n",
        "4. Gets the PUB result.\n",
        "5. Retrieves and prints the expectation value."
      ]
    },
    {
      "cell_type": "code",
      "execution_count": null,
      "metadata": {
        "colab": {
          "base_uri": "https://localhost:8080/"
        },
        "id": "PHDsTqlgsxUz",
        "outputId": "1afd7890-2105-4c96-853d-171a729185f2"
      },
      "outputs": [
        {
          "name": "stdout",
          "output_type": "stream",
          "text": [
            "Expectation value ⟨ZZ⟩: 1.0\n"
          ]
        }
      ],
      "source": [
        "qc = QuantumCircuit(2)\n",
        "qc.h(0)\n",
        "qc.cx(0, 1)\n",
        "\n",
        "observable = SparsePauliOp([\"ZZ\"])\n",
        "\n",
        "backend = AerSimulator()\n",
        "pm = generate_preset_pass_manager(optimization_level=1, backend=backend)\n",
        "qc_t = pm.run(qc)\n",
        "\n",
        "estimator = Estimator(mode=backend)\n",
        "\n",
        "job = estimator.run([(qc_t, observable)])\n",
        "result = job.result()\n",
        "\n",
        "exp_value = result[0].data.evs  # evs is now a scalar, not an array\n",
        "print(\"Expectation value ⟨ZZ⟩:\", exp_value)"
      ]
    },
    {
      "cell_type": "markdown",
      "metadata": {
        "id": "q8lfXhd0sxUz"
      },
      "source": [
        "---"
      ]
    },
    {
      "cell_type": "markdown",
      "metadata": {
        "id": "0t5hD7-QsxUz"
      },
      "source": [
        "## 14. Error Mitigation Techniques\n",
        "\n",
        "**Explanation:** Qiskit provides techniques to reduce the impact of noise on quantum hardware. **Readout error mitigation** corrects for errors in the final measurement step. **Dynamical Decoupling (DD)** inserts pulse sequences during idle times to protect qubits from decoherence. **Zero-Noise Extrapolation (ZNE)** runs circuits at different noise levels and extrapolates the result back to the zero-noise limit."
      ]
    },
    {
      "cell_type": "markdown",
      "metadata": {
        "id": "rDYLqEPisxUz"
      },
      "source": [
        "**Exercise 14:** This is a conceptual question. You are running a circuit on a noisy backend and suspect that the qubits are losing their quantum state (decohering) during idle periods in the circuit. Which error *suppression* technique would be most appropriate to apply?"
      ]
    },
    {
      "cell_type": "markdown",
      "metadata": {
        "id": "FTkbVqPHsxUz"
      },
      "source": [
        "The most appropriate technique is Dynamical Decoupling (DD).\n",
        "\n",
        "It is used when qubits lose their quantum state over time (decoherence) during idle periods in the circuit.\n",
        "DD works by adding extra pulses during those idle times to help keep the qubits stable and protect them from noise."
      ]
    },
    {
      "cell_type": "markdown",
      "metadata": {
        "id": "Kf7105rSsxUz"
      },
      "source": [
        "---"
      ]
    },
    {
      "cell_type": "markdown",
      "metadata": {
        "id": "4bB91-FdsxUz"
      },
      "source": [
        "## 15. OpenQASM 3 Basics\n",
        "\n",
        "**Explanation:** OpenQASM 3 is the latest version of the quantum assembly language. It has a more expressive syntax than its predecessor. For example, you declare a register of three qubits with `qubit[3] my_qubits;` and a classical bit register with `bit[2] c;`."
      ]
    },
    {
      "cell_type": "markdown",
      "metadata": {
        "id": "npyWyr8RsxUz"
      },
      "source": [
        "**Exercise 15:** Complete the OpenQASM 3 string below to create a Bell state between `q[0]` and `q[1]`."
      ]
    },
    {
      "cell_type": "code",
      "execution_count": null,
      "metadata": {
        "colab": {
          "base_uri": "https://localhost:8080/"
        },
        "id": "ZyaVHqTWsxUz",
        "outputId": "0d0cffef-6cc0-42e5-f43b-d6cb19a345d9"
      },
      "outputs": [
        {
          "name": "stdout",
          "output_type": "stream",
          "text": [
            "\n",
            "OPENQASM 3.0;\n",
            "include \"stdgates.inc\";\n",
            "qubit[2] q;\n",
            "bit[2] c;\n",
            "h q[0];\n",
            "cx q[0], q[1];\n",
            "\n",
            "c = measure q;\n",
            "\n"
          ]
        }
      ],
      "source": [
        "qasm3_string = '''\n",
        "OPENQASM 3.0;\n",
        "include \"stdgates.inc\";\n",
        "qubit[2] q;\n",
        "bit[2] c;\n",
        "h q[0];\n",
        "cx q[0], q[1];\n",
        "\n",
        "c = measure q;\n",
        "'''\n",
        "\n",
        "print(qasm3_string)"
      ]
    },
    {
      "cell_type": "markdown",
      "metadata": {
        "id": "ksL17YwPsxUz"
      },
      "source": [
        "---"
      ]
    },
    {
      "cell_type": "markdown",
      "metadata": {
        "id": "tWKvhmP-sxUz"
      },
      "source": [
        "## 16. OpenQASM 3 vs OpenQASM 2 – New Features\n",
        "\n",
        "**Explanation:** OpenQASM 3 introduced significant improvements over OpenQASM 2, most notably expanding beyond simple gate-based circuits. A major enhancement involves programming constructs that allow quantum programs to make decisions and repeat operations based on classical data and measurement outcomes, enabling more dynamic and adaptive quantum algorithms."
      ]
    },
    {
      "cell_type": "markdown",
      "metadata": {
        "id": "jkG5nNxHsxUz"
      },
      "source": [
        "**Exercise 16:** This is a conceptual question. What is a major feature related to classical logic that is present in OpenQASM 3 but completely absent in OpenQASM 2?"
      ]
    },
    {
      "cell_type": "markdown",
      "metadata": {
        "id": "osm9n7vAsxUz"
      },
      "source": [
        "OpenQASM 3 added new features that let quantum programs make decisions using classical logic, such as `if` statements and loops.  \n",
        "This makes it possible to build more dynamic and adaptive quantum algorithms, which was not possible in OpenQASM 2.\n",
        "\n",
        "> *\"OpenQASM 3 is a large expansion over the previous OpenQASM 2 specification. Many new features for classical control flow and computation are added to make writing quantum algorithms easier, and to describe classical data processing that forms part of these algorithms.\"*  \n",
        "> — [**OpenQASM 3.0 Specification – Introduction**](https://openqasm.com/versions/3.0/intro.html)\n"
      ]
    },
    {
      "cell_type": "markdown",
      "metadata": {
        "id": "yade6IK8sxU0"
      },
      "source": [
        "---"
      ]
    },
    {
      "cell_type": "markdown",
      "metadata": {
        "id": "ok4NJ6TdsxU0"
      },
      "source": [
        "## 17. Interfacing OpenQASM with Qiskit\n",
        "\n",
        "**Explanation:** Qiskit provides tools to convert between `QuantumCircuit` objects and OpenQASM 3 strings. To import an OpenQASM 3 string into a Qiskit circuit, you can use the `qiskit.qasm3.loads()` function."
      ]
    },
    {
      "cell_type": "markdown",
      "metadata": {
        "id": "7ogk0zgHsxU0"
      },
      "source": [
        "**Exercise 17:** Using the OpenQASM 3 string you created in Exercise 15, write the Python code to:\n",
        "1. Convert it into a Qiskit `QuantumCircuit` object named `qc_from_qasm`.\n",
        "2. Draw the circuit"
      ]
    },
    {
      "cell_type": "code",
      "execution_count": null,
      "metadata": {
        "colab": {
          "base_uri": "https://localhost:8080/",
          "height": 255
        },
        "id": "X3MipQHNsxU0",
        "outputId": "a6bd1f10-7031-4b70-ea14-50ef54fcc447"
      },
      "outputs": [
        {
          "data": {
            "image/png": "[encoded data removed]",
            "text/plain": [
              "<Figure size 454.517x284.278 with 1 Axes>"
            ]
          },
          "execution_count": 22,
          "metadata": {},
          "output_type": "execute_result"
        }
      ],
      "source": [
        "qasm3_string_for_import = '''\n",
        "OPENQASM 3.0;\n",
        "include \"stdgates.inc\";\n",
        "qubit[2] q;\n",
        "bit[2] c;\n",
        "h q[0];\n",
        "cx q[0], q[1];\n",
        "c = measure q;\n",
        "'''\n",
        "\n",
        "qc_from_qasm = qiskit.qasm3.loads(qasm3_string_for_import)\n",
        "\n",
        "qc_from_qasm.draw('mpl')\n"
      ]
    },
    {
      "cell_type": "markdown",
      "metadata": {
        "id": "WXQhq5gOsxU0"
      },
      "source": [
        "---"
      ]
    },
    {
      "cell_type": "markdown",
      "metadata": {
        "id": "hpZJo12IsxU0"
      },
      "source": [
        "## 18. Qiskit IBM Runtime API\n",
        "\n",
        "**Explanation:** Modern quantum applications often need to integrate quantum computations into broader software workflows. IBM Quantum provides cloud-based services that can be accessed programmatically from various programming environments beyond Python. Proper authentication credentials are required to access these services."
      ]
    },
    {
      "cell_type": "markdown",
      "metadata": {
        "id": "E2JuM14esxU0"
      },
      "source": [
        "**Exercise 18:** This is a conceptual question. You are building a web application backend using Node.js, Go, or another non-Python language, and you need to submit quantum jobs to IBM's quantum computers. What approach would you use to access IBM's quantum computing services programmatically, and what is the most important piece of information you would need to authenticate your requests?"
      ]
    },
    {
      "cell_type": "markdown",
      "metadata": {
        "id": "OM5UtOW4sxU0"
      },
      "source": [
        "\n",
        "You can submit quantum jobs from any language (Node.js, Go, Java, etc.) using the IBM Quantum / Qiskit Runtime REST API, which supports standard HTTPS requests without Python.\n",
        "\n",
        "Use your IBM Cloud API Key to obtain an IAM access token, then include it as a Bearer token in your requests.\n",
        "\n",
        "# Get IAM token\n",
        "curl -X POST \"https://iam.cloud.ibm.com/identity/token\" \\\n",
        "  -H \"Content-Type: application/x-www-form-urlencoded\" \\\n",
        "  -d \"apikey=YOUR_IBM_CLOUD_API_KEY&grant_type=urn:ibm:params:oauth:grant-type:apikey\"\n",
        "\n",
        "# Call the Quantum API\n",
        "curl -X GET \"https://api.quantum-computing.cloud.ibm.com/v2/jobs\" \\\n",
        "  -H \"Authorization: Bearer YOUR_IAM_TOKEN\"\n",
        "\n",
        "\n",
        "Works with any HTTP-capable language (Node.js, Go, Rust, etc.).\n",
        "\n",
        "References:\n",
        "\n",
        "IBM Quantum API Docs\n",
        " – how to authenticate and manage jobs (https://cloud.ibm.com/apidocs/quantum-computing)\n",
        "\n"
      ]
    },
    {
      "cell_type": "markdown",
      "metadata": {
        "id": "8fA7a5M9Q9-P"
      },
      "source": [
        "---"
      ]
    },
    {
      "cell_type": "markdown",
      "metadata": {
        "id": "N6M-7CgzQy0r"
      },
      "source": [
        "## 19. Running on real IBM Quantum hardware\n",
        "\n",
        "**Explanation:** In a previous exercise, you used the `Sampler` primitive from `qiskit_ibm_runtime` with the `AerSimulator` local simulator. Here you'll run the `Sampler` primitive on a real IBM Quantum computer."
      ]
    },
    {
      "cell_type": "markdown",
      "metadata": {
        "id": "0mNK5DaZRU2y"
      },
      "source": [
        "**Exercise 19:**\n",
        "Edit the code below in the following way:\n",
        "1. Comment out the following line:\n",
        "```\n",
        "backend = AerSimulator()\n",
        "```\n",
        "2. Add the following lines immediately after:\n",
        "```\n",
        "service = QiskitRuntimeService(name=\"fallfest-2025\")\n",
        "backend = service.least_busy(operational=True, simulator=False)\n",
        "```\n"
      ]
    },
    {
      "cell_type": "code",
      "execution_count": null,
      "metadata": {
        "colab": {
          "background_save": true
        },
        "id": "eWzaP9rkRTE4",
        "outputId": "01f85548-83f0-44b9-e01b-adc27be0031f"
      },
      "outputs": [
        {
          "name": "stdout",
          "output_type": "stream",
          "text": [
            "Measurement counts: {'11': 1999, '00': 2332, '01': 286, '10': 383}\n"
          ]
        }
      ],
      "source": [
        "your_api_key = \"Q1V3ybjaBT-otjI0F3eckIUakVP75Fe9jJEV-UylIz9q\"\n",
        "your_crn = \"crn:v1:bluemix:public:quantum-computing:us-east:a/379c43cad9614ddb8ec49d7b7b47ad39:db1f4d22-887e-4681-8530-c002eadcefee::\"\n",
        "\n",
        "QiskitRuntimeService.save_account(\n",
        "    channel=\"ibm_quantum_platform\",\n",
        "    token=your_api_key,\n",
        "    instance=your_crn,\n",
        "    name=\"fallfest-2025\",\n",
        ")\n",
        "\n",
        "# Check that the account has been saved properly\n",
        "# service = QiskitRuntimeService(name=\"fallfest-2025\")\n",
        "# print(service.saved_accounts())\n",
        "\n",
        "bell = QuantumCircuit(2)\n",
        "bell.h(0)\n",
        "bell.cx(0, 1)\n",
        "bell.measure_all()\n",
        "\n",
        "# backend = AerSimulator()\n",
        "\n",
        "service = QiskitRuntimeService(name=\"fallfest-2025\")\n",
        "backend = service.least_busy(operational=True, simulator=False)\n",
        "\n",
        "pm = generate_preset_pass_manager(backend=backend, optimization_level=1)\n",
        "isa_bell = pm.run(bell)\n",
        "\n",
        "sampler = Sampler(mode=backend)\n",
        "\n",
        "job = sampler.run([isa_bell], shots=5000)\n",
        "\n",
        "# If you use this line your code is going to wait until the QPU process your circuit, this could take hours, I would recoment just thet that job.job_id() and check when the job is done\n",
        "# result = job.result()"
      ]
    },
    {
      "cell_type": "code",
      "source": [
        "print(\"Job ID. \", job.job_id())\n",
        "print(\"Submitted. Current status:\", job.status())"
      ],
      "metadata": {
        "colab": {
          "base_uri": "https://localhost:8080/"
        },
        "id": "a7QAKgQDPDxo",
        "outputId": "1913a013-2836-42d1-efa6-55598f0d4f1b"
      },
      "execution_count": 74,
      "outputs": [
        {
          "output_type": "stream",
          "name": "stdout",
          "text": [
            "Job ID.  d3to516jbaoc73cogpig\n",
            "Submitted. Current status: DONE\n"
          ]
        }
      ]
    },
    {
      "cell_type": "markdown",
      "source": [
        "<h2>Result Retrieval and Output Variability</h2>\n",
        "\n",
        "<p>\n",
        "When executing a quantum circuit through the IBM Quantum platform using the\n",
        "<code>Sampler</code> interface, the line:\n",
        "</p>\n",
        "\n",
        "<pre><code>result = job.result()</code></pre>\n",
        "\n",
        "<p>\n",
        "initiates a <strong>blocking process</strong> that waits until the quantum job has completed\n",
        "execution on the selected backend. During this time, the computation transitions through several\n",
        "states such as <code>QUEUED</code>, <code>RUNNING</code>, and <code>VALIDATING</code> before\n",
        "reaching the final state <code>DONE</code>. Once complete, the results of all quantum measurements\n",
        "are returned as a <code>SamplerResult</code> object.\n",
        "</p>\n",
        "\n",
        "<h3>Expected Structure of the Output</h3>\n",
        "\n",
        "<p>\n",
        "For a Bell-state experiment defined by the quantum state:\n",
        "</p>\n",
        "\n",
        "<pre><code>|Φ⁺⟩ = (|00⟩ + |11⟩) / √2</code></pre>\n",
        "\n",
        "<p>\n",
        "the measurement outcomes are returned as a Python dictionary where each key represents a\n",
        "two-qubit state and each value represents the number of times that state was observed.\n",
        "A typical output structure appears as follows:\n",
        "</p>\n",
        "\n",
        "<pre><code>{'00': N_00, '11': N_11, '01': N_01, '10': N_10}</code></pre>\n",
        "\n",
        "<p>\n",
        "In an ideal, noise-free system, the <code>00</code> and <code>11</code> outcomes dominate\n",
        "because the Bell state encodes perfect correlations between both qubits.\n",
        "The outcomes <code>01</code> and <code>10</code> would theoretically be absent.\n",
        "</p>\n",
        "\n",
        "<h3>Sources of Variation</h3>\n",
        "\n",
        "<p>\n",
        "In practice, results obtained from real quantum hardware vary slightly from the theoretical prediction.\n",
        "Several physical and environmental factors contribute to this variation:\n",
        "</p>\n",
        "\n",
        "<ul>\n",
        "  <li><strong>Gate infidelities:</strong> Small calibration errors in the physical implementation of gates introduce imperfections in the state preparation.</li>\n",
        "  <li><strong>Readout errors:</strong> The measurement process may misclassify a logical |0⟩ as |1⟩ or vice versa.</li>\n",
        "  <li><strong>Decoherence:</strong> Interaction with the environment leads to loss of quantum information through amplitude and phase damping.</li>\n",
        "  <li><strong>Thermal relaxation:</strong> Qubits tend to return to their ground state |0⟩ over time, especially during longer experiments.</li>\n",
        "  <li><strong>Crosstalk:</strong> Simultaneous operations on neighboring qubits can interfere, modifying the intended quantum evolution.</li>\n",
        "</ul>\n",
        "\n",
        "<h3>Interpretation of Results</h3>\n",
        "\n",
        "<p>\n",
        "Because of these factors, small populations may appear in the <code>01</code> and <code>10</code> states.\n",
        "This does not imply that the Bell-state preparation failed; rather, it reflects the intrinsic\n",
        "noise present in current noisy intermediate-scale quantum (NISQ) devices.\n",
        "The dominant outcomes <code>00</code> and <code>11</code> still confirm the presence of\n",
        "quantum entanglement between the two qubits.\n",
        "</p>\n"
      ],
      "metadata": {
        "id": "fIyQNoY8S-Qg"
      }
    },
    {
      "cell_type": "code",
      "source": [
        "from qiskit_ibm_runtime import QiskitRuntimeService\n",
        "import matplotlib.pyplot as plt\n",
        "\n",
        "# Retrieve the job\n",
        "retrieved_job = service.job(job.job_id())\n",
        "\n",
        "# Check if it's already done (no waiting forever)\n",
        "status = retrieved_job.status()\n",
        "print(f\"Job status: {status}\")\n",
        "\n",
        "if str(status) == \"DONE\" or str(status).endswith(\"DONE\"):\n",
        "    result = retrieved_job.result()\n",
        "    counts = result[0].data.meas.get_counts()\n",
        "    print(f\"Measurement counts: {counts}\")\n",
        "\n",
        "    # --- Visualization ---\n",
        "    states = list(counts.keys())\n",
        "    values = list(counts.values())\n",
        "    total_shots = sum(values)\n",
        "    probabilities = [v / total_shots for v in values]\n",
        "\n",
        "    plt.figure(figsize=(6, 4))\n",
        "    bars = plt.bar(states, probabilities, color=\"royalblue\", edgecolor=\"black\")\n",
        "\n",
        "    for bar, prob in zip(bars, probabilities):\n",
        "        plt.text(bar.get_x() + bar.get_width() / 2, prob + 0.01,\n",
        "                 f\"{prob:.2%}\", ha=\"center\", va=\"bottom\", fontsize=9)\n",
        "\n",
        "    plt.title(\"Bell State Measurement Probabilities\")\n",
        "    plt.xlabel(\"Measured State\")\n",
        "    plt.ylabel(\"Probability\")\n",
        "    plt.ylim(0, 1)\n",
        "    plt.grid(axis=\"y\", linestyle=\":\", alpha=0.5)\n",
        "    plt.show()\n",
        "\n",
        "else:\n",
        "    print(\"Job not completed yet — try again later.\")\n"
      ],
      "metadata": {
        "colab": {
          "base_uri": "https://localhost:8080/",
          "height": 446
        },
        "id": "OB6fDbe_OPin",
        "outputId": "4a5a7e03-51cb-4511-d80f-4d41217310fc"
      },
      "execution_count": 75,
      "outputs": [
        {
          "output_type": "stream",
          "name": "stdout",
          "text": [
            "Job status: DONE\n",
            "Measurement counts: {'11': 1999, '00': 2332, '01': 286, '10': 383}\n"
          ]
        },
        {
          "output_type": "display_data",
          "data": {
            "text/plain": [
              "<Figure size 600x400 with 1 Axes>"
            ],
            "image/png": "[encoded data removed]"
          },
          "metadata": {}
        }
      ]
    }
  ],
  "metadata": {
    "colab": {
      "provenance": []
    },
    "kernelspec": {
      "display_name": "Python 3",
      "language": "python",
      "name": "python3"
    },
    "language_info": {
      "codemirror_mode": {
        "name": "ipython",
        "version": 3
      },
      "file_extension": ".py",
      "mimetype": "text/x-python",
      "name": "python",
      "nbconvert_exporter": "python",
      "pygments_lexer": "ipython3",
      "version": "3.9.7"
    }
  },
  "nbformat": 4,
  "nbformat_minor": 0
}