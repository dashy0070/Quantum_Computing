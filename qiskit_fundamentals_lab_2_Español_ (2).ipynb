{
  "cells": [
    {
      "cell_type": "markdown",
      "metadata": {
        "id": "09yor9XbsxUp"
      },
      "source": [
        "# Laboratorio de fundamentos de Qiskit Version 2\n",
        "\n",
        "¡Bienvenido al Laboratorio de Fundamentos de Qiskit 2! Este cuaderno está diseñado para ayudarte a familiarizarte con los fundamentos de Qiskit 2 mediante ejercicios prácticos para 18 conceptos clave.\n",
        "\n",
        "**Instrucciones:**\n",
        "1. Lee la explicación de cada concepto.\n",
        "2. Completa el ejercicio de codificación en la celda correspondiente.\n",
        "3. Después de intentar el ejercicio, puedes consultar tu respuesta en el cuaderno de soluciones."
      ]
    },
    {
      "cell_type": "markdown",
      "metadata": {
        "id": "t0jHE-ZfsxUq"
      },
      "source": [
        "## Configuración\n",
        "\n",
        "Primero, instalemos e importemos las bibliotecas necesarias. Ejecute la celda a continuación."
      ]
    },
    {
      "cell_type": "code",
      "execution_count": null,
      "metadata": {
        "id": "DpJ3m8dBsxUq"
      },
      "outputs": [],
      "source": [
        "!pip install qiskit[visualization] qiskit-ibm-runtime qiskit-aer qiskit_qasm3_import\n",
        "\n",
        "import numpy as np\n",
        "from qiskit import QuantumCircuit\n",
        "from qiskit.quantum_info import Pauli, SparsePauliOp, Statevector\n",
        "from qiskit.visualization import plot_histogram, plot_bloch_multivector\n",
        "from qiskit_aer import AerSimulator\n",
        "from qiskit.circuit import Parameter, ParameterVector\n",
        "import qiskit.qasm3\n",
        "from qiskit_ibm_runtime.fake_provider import FakeVigoV2\n",
        "from qiskit.transpiler.preset_passmanagers import generate_preset_pass_manager\n",
        "from qiskit_ibm_runtime import SamplerV2 as Sampler, EstimatorV2 as Estimator, QiskitRuntimeService\n"
      ]
    },
    {
      "cell_type": "markdown",
      "metadata": {
        "id": "deqExCIwsxUr"
      },
      "source": [
        "---"
      ]
    },
    {
      "cell_type": "markdown",
      "metadata": {
        "id": "h7LE98wpsxUr"
      },
      "source": [
        "## 1. Operadores de Pauli (Operadores de un solo cúbit)\n",
        "\n",
        "**Explicación:** Los operadores de Pauli (X, Y, Z e I) son matrices 2x2 que representan operaciones cuánticas fundamentales de un solo cúbit. En Qiskit, se pueden crear utilizando la clase `Pauli` (p. ej., `Pauli('X')` para el operador X). También se pueden construir Paulis multicúbit especificando caracteres para cada cúbit (p. ej., `'XI'` para la identidad en el cúbit 0 y X en el cúbit 1, siguiendo el orden de bits little-endian de Qiskit)."
      ]
    },
    {
      "cell_type": "markdown",
      "metadata": {
        "id": "16mO3TVQsxUr"
      },
      "source": [
        "**Ejercicio 1:**\n",
        "Escriba código que realice la siguiente función:\n",
        "1. Cree un operador de Pauli de 3 cúbits que represente `Z` en el cúbit 2, `Y` en el cúbit 1 e `I` (Identidad) en el cúbit 0.\n",
        "2. Imprima el operador.\n",
        "3. Imprima su representación matricial correspondiente."
      ]
    },
    {
      "cell_type": "code",
      "execution_count": null,
      "metadata": {
        "id": "Q7uI3aw1sxUr"
      },
      "outputs": [],
      "source": [
        "# Su codigo aquí\n"
      ]
    },
    {
      "cell_type": "markdown",
      "metadata": {
        "id": "jt1qu3ttsxUr"
      },
      "source": [
        "---"
      ]
    },
    {
      "cell_type": "markdown",
      "metadata": {
        "id": "oyy5Q-RysxUr"
      },
      "source": [
        "## 2. Puertas y fases de un solo cúbit\n",
        "\n",
        "**Explicación:** Las puertas de un solo cúbit, como X, Y, Z, H, S y T, son operaciones básicas sobre un solo cúbit. S y T son puertas de fase. La puerta S añade una fase π/2 al componente |1⟩ de cualquier estado cuántico, mientras que la puerta T añade una fase π/4 al componente |1⟩, manteniendo el componente |0⟩ inalterado en ambos casos. Estos desfases son cruciales para muchos algoritmos cuánticos."
      ]
    },
    {
      "cell_type": "markdown",
      "metadata": {
        "id": "oR0wlF-xsxUr"
      },
      "source": [
        "**Ejercicio 2:**\n",
        "Escribir código que realice la siguiente función:\n",
        "1. Crear un circuito cuántico que contenga un cúbit.\n",
        "2. Colocar el cúbit en el estado |1⟩.\n",
        "3. Añadir una puerta al circuito que aplique un desfase de π/4 al cúbit.\n",
        "4. Generar una representación en notación de Dirac del vector de estado del circuito."
      ]
    },
    {
      "cell_type": "code",
      "execution_count": null,
      "metadata": {
        "id": "Bd2qSTJisxUr",
        "collapsed": true
      },
      "outputs": [],
      "source": [
        "# Su codigo aquí\n"
      ]
    },
    {
      "cell_type": "markdown",
      "metadata": {
        "id": "7dYTCO3AsxUr"
      },
      "source": [
        "---"
      ]
    },
    {
      "cell_type": "markdown",
      "metadata": {
        "id": "w53dsAQ4sxUr"
      },
      "source": [
        "## 3. Superposición y rotaciones de esferas de Bloch\n",
        "\n",
        "**Explicación:** Puertas como `RX`, `RY` y `RZ` realizan rotaciones alrededor de los ejes de la esfera de Bloch, creando estados de superposición. Una rotación de un ángulo θ alrededor del eje Y (`RY(θ)`) en un estado inicial |0⟩ produce la superposición cos(θ/2)|0⟩ + sen(θ/2)|1⟩. Las probabilidades de medir 0 o 1 son los cuadrados de estas amplitudes."
      ]
    },
    {
      "cell_type": "markdown",
      "metadata": {
        "id": "xWCV781dsxUs"
      },
      "source": [
        "**Ejercicio 3:**\n",
        "Escribir código que realice la siguiente función:\n",
        "1. Crear un circuito cuántico que contenga un cúbit.\n",
        "2. Aplicar una sola puerta al cúbit 0 (inicialmente en el estado |0⟩) para crear una superposición donde la probabilidad de medir |0⟩ sea aproximadamente del 14,6 % y la de medir |1⟩ del 85,4 %.\n",
        "3. Imprimir las probabilidades.\n",
        "4. Mostrar una representación esférica de Bloch del vector de estados."
      ]
    },
    {
      "cell_type": "code",
      "execution_count": null,
      "metadata": {
        "id": "mIsVCiCksxUs"
      },
      "outputs": [],
      "source": [
        "# Su codigo aquí\n"
      ]
    },
    {
      "cell_type": "markdown",
      "metadata": {
        "id": "UpDq_hSCsxUs"
      },
      "source": [
        "---"
      ]
    },
    {
      "cell_type": "markdown",
      "metadata": {
        "id": "ab_OzjB-sxUs"
      },
      "source": [
        "## 4. Operaciones Multi-Qubit y Entrelazamiento\n",
        "\n",
        "**Explicación:** Las puertas multi-qubit, como la CNOT (`qc.cx(control, target)`), crean entrelazamiento al aplicarse a estados de superposición. Un estado entrelazado común es el estado de Bell |Φ+⟩ = 1/√2(|00⟩ + |11⟩), que se crea aplicando una puerta Hadamard a un qubit y luego una puerta CNOT. Recuerde el orden de bits de Qiskit: el qubit 0 es el bit más a la derecha (el menos significativo)."
      ]
    },
    {
      "cell_type": "markdown",
      "metadata": {
        "id": "ixJz_uCSsxUs"
      },
      "source": [
        "**Ejercicio 4:**\n",
        "Escribe código que realice la siguiente función:\n",
        "1. Crea un circuito cuántico con dos cúbits.\n",
        "2. Crea el estado de Bell |Φ+⟩, donde el primer cúbit (q0) es el cúbit de control.\n",
        "3. Dibuja el circuito cuántico con matplotlib.\n",
        "4. Imprime el vector de estados del circuito."
      ]
    },
    {
      "cell_type": "code",
      "execution_count": null,
      "metadata": {
        "id": "tYtyD067sxUs"
      },
      "outputs": [],
      "source": [
        "# Su codigo aquí\n"
      ]
    },
    {
      "cell_type": "markdown",
      "metadata": {
        "id": "VXUeDyQQsxUs"
      },
      "source": [
        "---"
      ]
    },
    {
      "cell_type": "markdown",
      "metadata": {
        "id": "bYWNowNPsxUs"
      },
      "source": [
        "## 5. Construcción y dibujo de circuitos cuánticos\n",
        "\n",
        "**Explicación:** La clase `QuantumCircuit` se utiliza para construir circuitos. El método `draw()` proporciona visualizaciones en formatos como `'text'`, `'mpl'` y `'latex'`. Se puede personalizar el dibujo con parámetros como `reverse_bits` para invertir el orden de los cúbits."
      ]
    },
    {
      "cell_type": "markdown",
      "metadata": {
        "id": "h4YCSEVPsxUs"
      },
      "source": [
        "**Ejercicio 5:**\n",
        "Escribe código que realice la siguiente función:\n",
        "1. Crea un estado de 3 cúbits GHZ.\n",
        "2. Dibuja el circuito con el orden de los cúbits invertido en el diagrama (q2 arriba, q0 abajo)."
      ]
    },
    {
      "cell_type": "code",
      "execution_count": null,
      "metadata": {
        "id": "d0E_Jhn3sxUs"
      },
      "outputs": [],
      "source": [
        "# Su codigo aquí\n"
      ]
    },
    {
      "cell_type": "markdown",
      "metadata": {
        "id": "QmYxbaGEsxUs"
      },
      "source": [
        "---"
      ]
    },
    {
      "cell_type": "markdown",
      "metadata": {
        "id": "_7Ll_fsssxUs"
      },
      "source": [
        "## 6. Circuitos dinámicos y flujo de control clásico\n",
        "\n",
        "**Explicación:** Qiskit admite circuitos dinámicos donde las operaciones pueden condicionarse a resultados de mediciones clásicas. El gestor de contexto `if_test()` permite crear bloques condicionales donde las operaciones se ejecutan según valores de bits clásicos. Esto permite una potente retroalimentación clásica en sus programas cuánticos."
      ]
    },
    {
      "cell_type": "markdown",
      "metadata": {
        "id": "BqykBGJ7sxUs"
      },
      "source": [
        "**Ejercicio 6:**\n",
        "Escribir código que realice la siguiente función:\n",
        "1. Crear un circuito cuántico que contenga dos cúbits y al menos un bit clásico.\n",
        "2. Añadir una puerta Hadamard al cúbit menos significativo.\n",
        "3. Aplicar una puerta X al cúbit 1 *solo si* la medición del cúbit 0 arroja el resultado \"1\". Utilizar el gestor de contexto `if_test()` con la tupla de condición adecuada.\n",
        "4. Dibujar el circuito con matplotlib."
      ]
    },
    {
      "cell_type": "code",
      "execution_count": null,
      "metadata": {
        "id": "pYyuApK9sxUs"
      },
      "outputs": [],
      "source": [
        "# Su codigo aquí\n"
      ]
    },
    {
      "cell_type": "markdown",
      "metadata": {
        "id": "bz26HxCvsxUs"
      },
      "source": [
        "---"
      ]
    },
    {
      "cell_type": "markdown",
      "metadata": {
        "id": "4Z9ge_vOsxUs"
      },
      "source": [
        "## 7. Visualización de estados y resultados cuánticos\n",
        "\n",
        "**Explicación:** Qiskit ofrece varias funciones para visualizar resultados. `plot_histogram(counts)` se utiliza para mostrar los resultados de las mediciones de una simulación o de la ejecución de un dispositivo real. Puede ordenar los resultados para facilitar su análisis, por ejemplo, por su frecuencia."
      ]
    },
    {
      "cell_type": "markdown",
      "metadata": {
        "id": "HjCmEiJfsxUs"
      },
      "source": [
        "**Ejercicio 7:**\n",
        "Escribir código que realice la siguiente función:\n",
        "1. Crear un circuito cuántico que contenga el estado de Bell |Φ+⟩.\n",
        "2. Medir los resultados en cables clásicos.\n",
        "3. Ejecutar el circuito con `AerSimulator`.\n",
        "4. Obtener los recuentos de las mediciones.\n",
        "5. Dibujar un histograma con las barras ordenadas del resultado más común al menos común."
      ]
    },
    {
      "cell_type": "code",
      "execution_count": null,
      "metadata": {
        "id": "7N-DRWjwsxUt"
      },
      "outputs": [],
      "source": [
        "# Su codigo aquí\n"
      ]
    },
    {
      "cell_type": "markdown",
      "metadata": {
        "id": "YTRCdX_LsxUt"
      },
      "source": [
        "---"
      ]
    },
    {
      "cell_type": "markdown",
      "metadata": {
        "id": "7KS7X1hWsxUx"
      },
      "source": [
        "## 8. Circuitos Cuánticos Parametrizados\n",
        "\n",
        "**Explicación:** Qiskit permite circuitos con parámetros simbólicos mediante la clase `Parameter`. Estos parámetros actúan como marcadores de posición que pueden asignarse posteriormente a valores numéricos específicos mediante el método `assign_parameters()`. Esto es fundamental para algoritmos variacionales como VQE y QAOA."
      ]
    },
    {
      "cell_type": "markdown",
      "metadata": {
        "id": "1PjfEcsUsxUx"
      },
      "source": [
        "**Ejercicio 8:**\n",
        "Escribe código que realice la siguiente función:\n",
        "1. Crea una instancia `Parameter` para representar un parámetro llamado `theta`.\n",
        "2. Crea un circuito cuántico `qc` que contiene un cúbit.\n",
        "3. Añade una puerta RX con el parámetro `theta` al cable del cúbit.\n",
        "4. Dibuja el circuito `qc`.\n",
        "5. Crea un nuevo circuito `bound_qc` vinculando el parámetro `theta` al valor `π/2`.\n",
        "6. Dibuja el circuito `bound_qc`."
      ]
    },
    {
      "cell_type": "code",
      "execution_count": null,
      "metadata": {
        "id": "IPjJLmqjsxUx"
      },
      "outputs": [],
      "source": [
        "# Su codigo aquí\n"
      ]
    },
    {
      "cell_type": "markdown",
      "metadata": {
        "id": "oacDrbNPsxUy"
      },
      "source": [
        "---"
      ]
    },
    {
      "cell_type": "markdown",
      "metadata": {
        "id": "mtJl_5xHsxUy"
      },
      "source": [
        "## 9. Transpilación y Optimización de Circuitos\n",
        "\n",
        "**Explicación:** La transpilación adapta un circuito cuántico a las restricciones de un dispositivo cuántico específico, incluyendo sus puertas base y la conectividad de cúbits. La función `generate_preset_pass_manager()` crea un gestor de pases de transpilación con configuraciones predefinidas. Tiene varias opciones de `optimization_level` (0-3), donde los niveles superiores aplican técnicas de optimización más avanzadas para reducir la profundidad del circuito y el número de puertas, a costa de un mayor tiempo de compilación."
      ]
    },
    {
      "cell_type": "markdown",
      "metadata": {
        "id": "3BApPuTLsxUy"
      },
      "source": [
        "**Ejercicio 9:**\n",
        "Escribir código que realice la siguiente función:\n",
        "1. Crear un circuito de 3 cúbits GHZ.\n",
        "2. Transpilar el circuito para el backend «FakeVigoV2», utilizando el nivel más alto de optimización (nivel 3).\n",
        "3. Imprimir la profundidad del circuito original.\n",
        "4. Imprimir la profundidad del circuito transpilado.\n",
        "5. Dibujar el circuito transpilado."
      ]
    },
    {
      "cell_type": "code",
      "execution_count": null,
      "metadata": {
        "id": "vsy-1cVPsxUy"
      },
      "outputs": [],
      "source": [
        "# Su codigo aquí\n"
      ]
    },
    {
      "cell_type": "markdown",
      "metadata": {
        "id": "8XsqcPA1sxUy"
      },
      "source": [
        "---"
      ]
    },
    {
      "cell_type": "markdown",
      "metadata": {
        "id": "PL65fgRBsxUy"
      },
      "source": [
        "## 10. Modos de ejecución de Qiskit Runtime\n",
        "\n",
        "**Explicación:** Qiskit Runtime ofrece tres modos de ejecución: **job**, **session** y **batch**. Los modos de ejecución determinan cómo se programan los trabajos, y elegir el modo correcto permite que la carga de trabajo se ejecute eficientemente, dentro del presupuesto."
      ]
    },
    {
      "cell_type": "markdown",
      "metadata": {
        "id": "KUUF6HpGsxUy"
      },
      "source": [
        "**Ejercicio 10:** Esta es una pregunta conceptual. En la celda de Markdown a continuación, explique qué modo de ejecución (job, session o batch) usaría para un algoritmo de auto-resolución cuántica variacional (VQE) y explique brevemente por qué."
      ]
    },
    {
      "cell_type": "markdown",
      "metadata": {
        "id": "vXi1UHRhsxUy"
      },
      "source": [
        "*[Su respuesta aquí]*"
      ]
    },
    {
      "cell_type": "markdown",
      "metadata": {
        "id": "id6jApu3sxUy"
      },
      "source": [
        "---"
      ]
    },
    {
      "cell_type": "markdown",
      "metadata": {
        "id": "reyOfqR9sxUy"
      },
      "source": [
        "\n",
        "## 11. Primitivas Cuánticas (Sampler y Estimator)\n",
        "\n",
        "**Explicación:** Las primitivas son interfaces de alto nivel para tareas cuánticas comunes. El **Sampler** y el **Estimator** son dos primitivas clave, cada una con funciones diferentes al trabajar con circuitos cuánticos. Abstraen los detalles de ejecución y mitigación de errores, facilitando la extracción de información significativa de los cálculos cuánticos."
      ]
    },
    {
      "cell_type": "markdown",
      "metadata": {
        "id": "K3pRUs_6sxUy"
      },
      "source": [
        "**Ejercicio 11:** Esta es una pregunta conceptual. En la celda de Markdown a continuación, describe la diferencia fundamental entre las primitivas Sampler y Estimator en una sola oración."
      ]
    },
    {
      "cell_type": "markdown",
      "metadata": {
        "id": "apftI_pHsxUy"
      },
      "source": [
        "*[Su respuesta aquí]*"
      ]
    },
    {
      "cell_type": "markdown",
      "metadata": {
        "id": "QLC_Kbp-sxUy"
      },
      "source": [
        "---"
      ]
    },
    {
      "cell_type": "markdown",
      "metadata": {
        "id": "-PaYckpwsxUy"
      },
      "source": [
        "## 12. Uso de la primitiva Sampler\n",
        "\n",
        "**Explicación:** En Qiskit 2, puede usar la primitiva `Sampler` de `qiskit_ibm_runtime` con simuladores locales como `AerSimulator`. Aquí inicializará un `Sampler` con un modo backend, transpilará su circuito usando `generate_preset_pass_manager` y luego usará el método `.run([circuits], shots=...)`. El objeto resultante contiene datos de medición accesibles mediante los nombres de registro clásicos."
      ]
    },
    {
      "cell_type": "markdown",
      "metadata": {
        "id": "pOzBRxObsxUy"
      },
      "source": [
        "**Ejercicio 12:**\n",
        "Escribir código que realice la siguiente función:\n",
        "1. Crear un circuito cuántico que contenga el estado de Bell |Φ+⟩.\n",
        "2. Utilizar el método `measure_all` para medir los resultados.\n",
        "3. Transpilar el circuito mediante el backend `AerSimulator`.\n",
        "4. Inicializar la primitiva `Sampler` con el backend `AerSimulator`.\n",
        "5. Ejecutar el Sampler.\n",
        "6. Obtener los recuentos de las mediciones.\n",
        "7. Imprimir los recuentos de las mediciones."
      ]
    },
    {
      "cell_type": "code",
      "execution_count": null,
      "metadata": {
        "id": "4fmQxymusxUy"
      },
      "outputs": [],
      "source": [
        "# Su codigo aquí\n"
      ]
    },
    {
      "cell_type": "markdown",
      "metadata": {
        "id": "RB3wcFFYsxUz"
      },
      "source": [
        "---"
      ]
    },
    {
      "cell_type": "markdown",
      "metadata": {
        "id": "TwkbyxVDsxUz"
      },
      "source": [
        "## 13. Uso de la primitiva Estimator\n",
        "\n",
        "**Explicación:** En Qiskit 2, puede usar la primitiva `Estimator` de `qiskit_ibm_runtime` con simuladores locales como `AerSimulator`. `Estimator` calcula los valores esperados ⟨ψ|O|ψ⟩. Aquí inicializará un `Estimator` con un modo backend, transpilará su circuito usando `generate_preset_pass_manager`, aplicará el observable al diseño del circuito y luego usará el método `.run([(circuit, observable)])`. El objeto resultante contiene los valores esperados accesibles mediante `data.evs`."
      ]
    },
    {
      "cell_type": "markdown",
      "metadata": {
        "id": "SXgnN1FNsxUz"
      },
      "source": [
        "**Ejercicio 13:**\n",
        "Escribir código que realice la siguiente función:\n",
        "1. Crear un circuito cuántico que contenga el estado de Bell |Φ+⟩.\n",
        "2. Define el observable ZZ mediante `SparsePauliOp`.\n",
        "3. Transpila el circuito mediante el backend `AerSimulator`.\n",
        "4. Aplica el observable al diseño del circuito.\n",
        "5. Inicializa la primitiva `Estimator` con el backend `AerSimulator`.\n",
        "6. Ejecuta el Estimator.\n",
        "4. Obtiene el resultado PUB.\n",
        "5. Recupera e imprime el valor esperado."
      ]
    },
    {
      "cell_type": "code",
      "execution_count": null,
      "metadata": {
        "id": "PHDsTqlgsxUz"
      },
      "outputs": [],
      "source": [
        "# Su codigo aquí"
      ]
    },
    {
      "cell_type": "markdown",
      "metadata": {
        "id": "q8lfXhd0sxUz"
      },
      "source": [
        "---"
      ]
    },
    {
      "cell_type": "markdown",
      "metadata": {
        "id": "0t5hD7-QsxUz"
      },
      "source": [
        "## 14. Técnicas de Mitigación de Errores\n",
        "\n",
        "**Explicación:** Qiskit proporciona técnicas para reducir el impacto del ruido en el hardware cuántico. La **mitigación de errores de lectura** corrige los errores en el paso final de la medición. El **Desacoplamiento Dinámico (DD)** inserta secuencias de pulsos durante los tiempos de inactividad para proteger los cúbits de la decoherencia. La **Extrapolación de Ruido Cero (ZNE)** ejecuta circuitos con diferentes niveles de ruido y extrapola el resultado hasta el límite de ruido cero."
      ]
    },
    {
      "cell_type": "markdown",
      "metadata": {
        "id": "rDYLqEPisxUz"
      },
      "source": [
        "**Ejercicio 14:** Esta es una pregunta conceptual. Estás ejecutando un circuito en un backend ruidoso y sospechas que los cúbits pierden su estado cuántico (descoherencia) durante los periodos de inactividad del circuito. ¿Qué técnica de *supresión* de errores sería la más adecuada?"
      ]
    },
    {
      "cell_type": "markdown",
      "metadata": {
        "id": "FTkbVqPHsxUz"
      },
      "source": [
        "*[Su respuesta aquí]*"
      ]
    },
    {
      "cell_type": "markdown",
      "metadata": {
        "id": "Kf7105rSsxUz"
      },
      "source": [
        "---"
      ]
    },
    {
      "cell_type": "markdown",
      "metadata": {
        "id": "4bB91-FdsxUz"
      },
      "source": [
        "## 15. Fundamentos de OpenQASM 3\n",
        "\n",
        "**Explicación:** OpenQASM 3 es la versión más reciente del lenguaje ensamblador cuántico. Tiene una sintaxis más expresiva que su predecesor. Por ejemplo, se declara un registro de tres cúbits con `qubit[3] my_qubits;` y un registro de bits clásico con `bit[2] c;`."
      ]
    },
    {
      "cell_type": "markdown",
      "metadata": {
        "id": "npyWyr8RsxUz"
      },
      "source": [
        "**Ejercicio 15:** Complete la cadena OpenQASM 3 a continuación para crear un estado de campana entre `q[0]` y `q[1]`."
      ]
    },
    {
      "cell_type": "code",
      "execution_count": null,
      "metadata": {
        "id": "ZyaVHqTWsxUz"
      },
      "outputs": [],
      "source": [
        "qasm3_string = '''\n",
        "OPENQASM 3.0;\n",
        "include \"stdgates.inc\";\n",
        "qubit[2] q;\n",
        "bit[2] c;\n",
        "// Your code here (2 lines)\n",
        "\n",
        "c = measure q;\n",
        "'''\n",
        "\n",
        "print(qasm3_string)"
      ]
    },
    {
      "cell_type": "markdown",
      "metadata": {
        "id": "ksL17YwPsxUz"
      },
      "source": [
        "---"
      ]
    },
    {
      "cell_type": "markdown",
      "metadata": {
        "id": "tWKvhmP-sxUz"
      },
      "source": [
        "## 16. OpenQASM 3 vs. OpenQASM 2 – Nuevas características\n",
        "\n",
        "**Explicación:** OpenQASM 3 introdujo mejoras significativas con respecto a OpenQASM 2, destacando su expansión más allá de los circuitos simples basados ​​en puertas. Una mejora importante se refiere a las estructuras de programación que permiten a los programas cuánticos tomar decisiones y repetir operaciones basándose en datos clásicos y resultados de medición, lo que permite algoritmos cuánticos más dinámicos y adaptativos."
      ]
    },
    {
      "cell_type": "markdown",
      "metadata": {
        "id": "jkG5nNxHsxUz"
      },
      "source": [
        "**Ejercicio 16:** Esta es una pregunta conceptual. ¿Cuál es una característica importante relacionada con la lógica clásica que está presente en OpenQASM 3 pero completamente ausente en OpenQASM 2?"
      ]
    },
    {
      "cell_type": "markdown",
      "metadata": {
        "id": "osm9n7vAsxUz"
      },
      "source": [
        "*[Your answer here]*"
      ]
    },
    {
      "cell_type": "markdown",
      "metadata": {
        "id": "yade6IK8sxU0"
      },
      "source": [
        "---"
      ]
    },
    {
      "cell_type": "markdown",
      "metadata": {
        "id": "ok4NJ6TdsxU0"
      },
      "source": [
        "## 17. Interfaz de OpenQASM con Qiskit\n",
        "\n",
        "**Explicación:** Qiskit proporciona herramientas para convertir entre objetos `QuantumCircuit` y cadenas de OpenQASM 3. Para importar una cadena de OpenQASM 3 a un circuito Qiskit, puede usar la función `qiskit.qasm3.loads()`."
      ]
    },
    {
      "cell_type": "markdown",
      "metadata": {
        "id": "7ogk0zgHsxU0"
      },
      "source": [
        "**Ejercicio 17:** Usando la cadena OpenQASM 3 que creaste en el Ejercicio 15, escribe el código Python para:\n",
        "1. Convertirla en un objeto `QuantumCircuit` de Qiskit llamado `qc_from_qasm`.\n",
        "2. Dibujar el circuito."
      ]
    },
    {
      "cell_type": "code",
      "execution_count": null,
      "metadata": {
        "id": "X3MipQHNsxU0"
      },
      "outputs": [],
      "source": [
        "qasm3_string_for_import = '''\n",
        "OPENQASM 3.0;\n",
        "include \"stdgates.inc\";\n",
        "qubit[2] q;\n",
        "bit[2] c;\n",
        "h q[0];\n",
        "cx q[0], q[1];\n",
        "c = measure q;\n",
        "'''\n",
        "\n",
        "# Su codigo aquí\n"
      ]
    },
    {
      "cell_type": "markdown",
      "metadata": {
        "id": "WXQhq5gOsxU0"
      },
      "source": [
        "---"
      ]
    },
    {
      "cell_type": "markdown",
      "metadata": {
        "id": "hpZJo12IsxU0"
      },
      "source": [
        "## 18. API de tiempo de ejecución de Qiskit IBM\n",
        "\n",
        "**Explicación:** Las aplicaciones cuánticas modernas suelen necesitar integrar la computación cuántica en flujos de trabajo de software más amplios. IBM Quantum ofrece servicios en la nube a los que se puede acceder mediante programación desde diversos entornos de programación, además de Python. Se requieren las credenciales de autenticación adecuadas para acceder a estos servicios."
      ]
    },
    {
      "cell_type": "markdown",
      "metadata": {
        "id": "E2JuM14esxU0"
      },
      "source": [
        "**Ejercicio 18:** Esta es una pregunta conceptual. Estás desarrollando el backend de una aplicación web con Node.js, Go u otro lenguaje distinto de Python, y necesitas enviar trabajos cuánticos a las computadoras cuánticas de IBM. ¿Qué enfoque utilizarías para acceder a los servicios de computación cuántica de IBM mediante programación y cuál es la información más importante que necesitarías para autenticar tus solicitudes?"
      ]
    },
    {
      "cell_type": "markdown",
      "metadata": {
        "id": "OM5UtOW4sxU0"
      },
      "source": [
        "*[Su respuesta aquí]*"
      ]
    },
    {
      "cell_type": "markdown",
      "source": [
        "---"
      ],
      "metadata": {
        "id": "8fA7a5M9Q9-P"
      }
    },
    {
      "cell_type": "markdown",
      "source": [
        "## 19. Ejecución en hardware IBM Quantum real\n",
        "\n",
        "**Explicación:** En un ejercicio anterior, utilizó la primitiva `Sampler` de `qiskit_ibm_runtime` con el simulador local `AerSimulator`. Aquí ejecutará la primitiva `Sampler` en un ordenador IBM Quantum real."
      ],
      "metadata": {
        "id": "N6M-7CgzQy0r"
      }
    },
    {
      "cell_type": "markdown",
      "source": [
        "**Ejercicio 19:**\n",
        "Edite el código a continuación de la siguiente manera:\n",
        "1. Comente la siguiente línea:\n",
        "```\n",
        "backend = AerSimulator()\n",
        "```\n",
        "2. Añada las siguientes líneas inmediatamente después:\n",
        "```\n",
        "service = QiskitRuntimeService(name=\"fallfest-2025\")\n",
        "backend = service.least_busy(operational=True, simulator=False)\n",
        "```"
      ],
      "metadata": {
        "id": "0mNK5DaZRU2y"
      }
    },
    {
      "cell_type": "code",
      "source": [
        "# your_api_key = \"Eliminar esto y pegar su clave API aquí\"\n",
        "# your_crn = \"Eliminar esto y pegar su CRN aqui\"\n",
        "\n",
        "# QiskitRuntimeService.save_account(\n",
        "#     channel=\"ibm_quantum_platform\",\n",
        "#     token=your_api_key,\n",
        "#     instance=your_crn,\n",
        "#     name=\"fallfest-2025\",\n",
        "# )\n",
        "\n",
        "# Revisar que la cuenta se guardara\n",
        "# service = QiskitRuntimeService(name=\"fallfest-2025\")\n",
        "# print(service.saved_accounts())\n",
        "\n",
        "bell = QuantumCircuit(2)\n",
        "bell.h(0)\n",
        "bell.cx(0, 1)\n",
        "bell.measure_all()\n",
        "\n",
        "backend = AerSimulator()\n",
        "\n",
        "pm = generate_preset_pass_manager(backend=backend, optimization_level=1)\n",
        "isa_bell = pm.run(bell)\n",
        "\n",
        "sampler = Sampler(mode=backend)\n",
        "\n",
        "job = sampler.run([isa_bell], shots=5000)\n",
        "\n",
        "# Si usa esta línea, su código esperará hasta que la QPU procese su circuito, esto podría tomar horas, le recomendaría simplemente usar job.job_id() y verificar cuando el trabajo esté terminado.\n",
        "# result = job.result()"
      ],
      "metadata": {
        "id": "eWzaP9rkRTE4"
      },
      "execution_count": null,
      "outputs": []
    },
    {
      "cell_type": "code",
      "source": [
        "print(\"Job ID. \", job.job_id())\n",
        "print(\"Enviado. Estado actual:\", job.status())"
      ],
      "metadata": {
        "id": "YEC-kNL1ZzPD"
      },
      "execution_count": null,
      "outputs": []
    },
    {
      "cell_type": "markdown",
      "source": [
        "<h2>Recuperación de Resultados y Variabilidad en la Salida</h2>\n",
        "\n",
        "<p>\n",
        "Al ejecutar un circuito cuántico en la plataforma IBM Quantum utilizando la interfaz\n",
        "<code>Sampler</code>, la línea:\n",
        "</p>\n",
        "\n",
        "<pre><code>result = job.result()</code></pre>\n",
        "\n",
        "<p>\n",
        "inicia un <strong>proceso bloqueante</strong> que espera hasta que el trabajo cuántico haya completado su\n",
        "ejecución en el backend seleccionado. Durante este tiempo, la ejecución pasa por varios estados, como\n",
        "<code>QUEUED</code> (en cola), <code>RUNNING</code> (en ejecución) y <code>VALIDATING</code> (validando),\n",
        "hasta alcanzar el estado final <code>DONE</code> (completado). Una vez finalizado, los resultados de\n",
        "todas las mediciones cuánticas se devuelven en un objeto de tipo <code>SamplerResult</code>.\n",
        "</p>\n",
        "\n",
        "<h3>Estructura Esperada del Resultado</h3>\n",
        "\n",
        "<p>\n",
        "Para un experimento del estado de Bell definido por el estado cuántico:\n",
        "</p>\n",
        "\n",
        "<pre><code>|Φ⁺⟩ = (|00⟩ + |11⟩) / √2</code></pre>\n",
        "\n",
        "<p>\n",
        "los resultados de medición se devuelven como un diccionario de Python, donde cada clave representa\n",
        "un estado de dos qubits y cada valor indica la cantidad de veces que dicho estado fue observado.\n",
        "Una estructura típica del resultado es la siguiente:\n",
        "</p>\n",
        "\n",
        "<pre><code>{'00': N_00, '11': N_11, '01': N_01, '10': N_10}</code></pre>\n",
        "\n",
        "<p>\n",
        "En un sistema ideal, libre de ruido, los resultados <code>00</code> y <code>11</code> son los predominantes,\n",
        "ya que el estado de Bell codifica correlaciones perfectas entre ambos qubits.\n",
        "Los resultados <code>01</code> y <code>10</code> teóricamente no deberían aparecer.\n",
        "</p>\n",
        "\n",
        "<h3>Fuentes de Variación</h3>\n",
        "\n",
        "<p>\n",
        "En la práctica, los resultados obtenidos en hardware cuántico real difieren ligeramente de la predicción teórica.\n",
        "Existen varios factores físicos y ambientales que contribuyen a esta variación:\n",
        "</p>\n",
        "\n",
        "<ul>\n",
        "  <li><strong>Infidelidades de compuerta:</strong> Pequeños errores de calibración en la implementación física de las compuertas introducen imperfecciones en la preparación del estado.</li>\n",
        "  <li><strong>Errores de lectura:</strong> El proceso de medición puede clasificar incorrectamente un |0⟩ como |1⟩ o viceversa.</li>\n",
        "  <li><strong>Decoherencia:</strong> La interacción con el entorno provoca la pérdida de información cuántica mediante procesos de amortiguamiento de amplitud y de fase.</li>\n",
        "  <li><strong>Relajación térmica:</strong> Los qubits tienden a regresar a su estado base |0⟩ con el tiempo, especialmente en experimentos prolongados.</li>\n",
        "  <li><strong>Crosstalk:</strong> Las operaciones simultáneas en qubits vecinos pueden interferir entre sí, alterando la evolución cuántica prevista.</li>\n",
        "</ul>\n",
        "\n",
        "<h3>Interpretación de los Resultados</h3>\n",
        "\n",
        "<p>\n",
        "Debido a estos factores, pueden aparecer pequeñas poblaciones en los estados <code>01</code> y <code>10</code>.\n",
        "Esto no significa que la preparación del estado de Bell haya fallado, sino que refleja el ruido\n",
        "intrínseco presente en los dispositivos cuánticos actuales, conocidos como NISQ (Noisy Intermediate-Scale Quantum).\n",
        "La dominancia de los resultados <code>00</code> y <code>11</code> sigue siendo evidencia de la\n",
        "presencia de entrelazamiento cuántico entre los dos qubits.\n",
        "</p>\n"
      ],
      "metadata": {
        "id": "OnYR_lMxaB6l"
      }
    },
    {
      "cell_type": "code",
      "source": [
        "from qiskit_ibm_runtime import QiskitRuntimeService\n",
        "import matplotlib.pyplot as plt\n",
        "\n",
        "# Obtiene el job\n",
        "retrieved_job = service.job(job.job_id())\n",
        "\n",
        "# Revisa si ya esta listo\n",
        "status = retrieved_job.status()\n",
        "print(f\"Job status: {status}\")\n",
        "\n",
        "if str(status) == \"DONE\" or str(status).endswith(\"DONE\"):\n",
        "    result = retrieved_job.result()\n",
        "    counts = result[0].data.meas.get_counts()\n",
        "    print(f\"Measurement counts: {counts}\")\n",
        "\n",
        "    # --- Visualization ---\n",
        "    states = list(counts.keys())\n",
        "    values = list(counts.values())\n",
        "    total_shots = sum(values)\n",
        "    probabilities = [v / total_shots for v in values]\n",
        "\n",
        "    plt.figure(figsize=(6, 4))\n",
        "    bars = plt.bar(states, probabilities, color=\"royalblue\", edgecolor=\"black\")\n",
        "\n",
        "    for bar, prob in zip(bars, probabilities):\n",
        "        plt.text(bar.get_x() + bar.get_width() / 2, prob + 0.01,\n",
        "                 f\"{prob:.2%}\", ha=\"center\", va=\"bottom\", fontsize=9)\n",
        "\n",
        "    plt.title(\"Bell State Measurement Probabilities\")\n",
        "    plt.xlabel(\"Measured State\")\n",
        "    plt.ylabel(\"Probability\")\n",
        "    plt.ylim(0, 1)\n",
        "    plt.grid(axis=\"y\", linestyle=\":\", alpha=0.5)\n",
        "    plt.show()\n",
        "\n",
        "else:\n",
        "    print(\"Job not completed yet — try again later.\")\n"
      ],
      "metadata": {
        "id": "xXanAfdyZ4z0"
      },
      "execution_count": null,
      "outputs": []
    }
  ],
  "metadata": {
    "kernelspec": {
      "display_name": "Python 3",
      "language": "python",
      "name": "python3"
    },
    "language_info": {
      "codemirror_mode": {
        "name": "ipython",
        "version": 3
      },
      "file_extension": ".py",
      "mimetype": "text/x-python",
      "name": "python",
      "nbconvert_exporter": "python",
      "pygments_lexer": "ipython3",
      "version": "3.9.7"
    },
    "colab": {
      "provenance": []
    }
  },
  "nbformat": 4,
  "nbformat_minor": 0
}